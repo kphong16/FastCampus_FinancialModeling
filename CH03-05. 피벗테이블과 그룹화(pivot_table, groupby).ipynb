{
 "cells": [
  {
   "cell_type": "markdown",
   "metadata": {},
   "source": [
    "# [ 3-5. 피벗테이블과 그룹화(pivot_table, groupby) ]"
   ]
  },
  {
   "cell_type": "markdown",
   "metadata": {},
   "source": [
    "## 1. pivot_table 함수\n",
    "pivot_table 함수는 pandas에서 복잡한 데이터를 집계하고, 데이터를 재구성하는데 사용됩니다. 이 함수를 사용하면 데이터를 특정 키에 따라 그룹화하고, 각 그룹에 대해 다양한 집계 함수를 적용할 수 있습니다."
   ]
  },
  {
   "cell_type": "markdown",
   "metadata": {},
   "source": [
    "### 1-1. 기본 사용법"
   ]
  },
  {
   "cell_type": "code",
   "execution_count": 27,
   "metadata": {},
   "outputs": [
    {
     "name": "stdout",
     "output_type": "stream",
     "text": [
      "B         one     three       two\n",
      "A                                \n",
      "bar -0.508109  2.758640 -0.102677\n",
      "foo -0.095130  0.458155  0.416187\n"
     ]
    }
   ],
   "source": [
    "import numpy as np \n",
    "import pandas as pd \n",
    "from pandas import DataFrame, Series\n",
    "\n",
    "df = pd.DataFrame({\n",
    "    'A': ['foo', 'bar', 'foo', 'bar', 'foo', 'bar', 'foo', 'foo'], \n",
    "    'B': ['one', 'one', 'two', 'three', 'two', 'two', 'one', 'three'], \n",
    "    'C': np.random.randn(8), \n",
    "    'D': np.random.randn(8) \n",
    "})\n",
    "\n",
    "# pivot_table 생성\n",
    "pivot_table = pd.pivot_table(\n",
    "    df, \n",
    "    values='D', \n",
    "    index=['A'], \n",
    "    columns=['B'], \n",
    "    aggfunc='sum'\n",
    ")\n",
    "\n",
    "print(pivot_table)"
   ]
  },
  {
   "cell_type": "markdown",
   "metadata": {},
   "source": [
    "### 1-2. 주요 매개변수\n",
    "* data: DataFrame 객체. pivot_table을 생성할 데이터프레임입니다.\n",
    "\n",
    "* values: 재구성된 테이블에서 집계할 열 이름을 나타내는 스칼라 또는 리스트. 지정하지 않으면, 모든 수치형 데이터를 집계합니다.\n",
    "\n",
    "* index: 반환된 피벗 테이블의 행으로 들어갈 DataFrame 열 이름이나 다른 그룹 키를 나타내는 스칼라 또는 리스트입니다. 이는 결과 피벗 테이블에서 그룹화의 기준이 됩니다.\n",
    "\n",
    "* columns: 반환된 피벗 테이블의 열로 들어갈 DataFrame 열 이름이나 다른 그룹 키를 나타내는 스칼라 또는 리스트입니다. 이는 선택적 매개변수이며, 지정하지 않으면 최종 결과는 MultiIndex를 가진 DataFrame이 됩니다.\n",
    "\n",
    "* aggfunc: 집계 함수나 함수의 리스트입니다. 기본값은 numpy.mean입니다. 집계 함수는 'sum', 'mean', 'count', 'min', 'max' 등 numpy 함수나 사용자 정의 함수를 사용할 수 있습니다. values에 여러 항목이 있으면, 딕셔너리를 사용하여 열마다 다른 집계 함수를 지정할 수 있습니다.\n",
    "\n",
    "* fill_value: 결과 테이블에서 나타날 결측값(missing value)을 대체할 값입니다. 기본값은 None입니다. 이 매개변수는 집계 과정에서 발생할 수 있는 NaN 값을 원하는 값으로 채우는 데 사용됩니다.\n",
    "\n",
    "* margins: 부분합계와 총합을 추가할지 여부를 결정하는 불리언 값입니다. 기본값은 False입니다. True로 설정하면, 모든 행과 열에 대한 총합계가 'All' 라벨과 함께 추가됩니다.\n",
    "\n",
    "* dropna: 결측값을 가진 열을 결과에서 제외할지 여부를 결정하는 불리언 값입니다. 기본값은 True로, 결측값을 가진 모든 열을 포함하지 않습니다.\n",
    "\n",
    "* margins_name: margins=True일 때, 마진 열이나 행의 이름을 지정합니다. 기본값은 'All'입니다."
   ]
  },
  {
   "cell_type": "code",
   "execution_count": 3,
   "metadata": {},
   "outputs": [
    {
     "name": "stdout",
     "output_type": "stream",
     "text": [
      "C          large  small  Total\n",
      "A     B                       \n",
      "bar   one      4      5      9\n",
      "      two      7      6     13\n",
      "foo   one      4      1      5\n",
      "      two      0      6      6\n",
      "Total         15     18     33\n"
     ]
    }
   ],
   "source": [
    "df = pd.DataFrame({\n",
    "    \"A\": [\"foo\", \"foo\", \"foo\", \"foo\", \"foo\", \"bar\", \"bar\", \"bar\", \"bar\"],\n",
    "    \"B\": [\"one\", \"one\", \"one\", \"two\", \"two\", \"one\", \"one\", \"two\", \"two\"],\n",
    "    \"C\": [\"small\", \"large\", \"large\", \"small\", \"small\", \"large\", \"small\", \n",
    "          \"small\", \"large\"],\n",
    "    \"D\": [1, 2, 2, 3, 3, 4, 5, 6, 7],\n",
    "    \"E\": [2, 4, 5, 5, 6, 6, 8, 9, 9]\n",
    "})\n",
    "\n",
    "pivot_table = pd.pivot_table(\n",
    "    df, values=\"D\", index=[\"A\", \"B\"], columns=[\"C\"], \n",
    "    aggfunc='sum', fill_value=0, \n",
    "    margins=True, margins_name=\"Total\"\n",
    ")\n",
    "\n",
    "print(pivot_table)"
   ]
  },
  {
   "cell_type": "markdown",
   "metadata": {},
   "source": [
    "### 1-3. aggfunc 매개변수 사용 예시\n",
    "pivot_table에서 aggfunc 매개변수는 데이터를 집계하는 방법을 지정하는 데 사용됩니다. aggfunc 매개변수에는 단일 함수를 사용할 수도 있고, 여러 함수를 리스트나 딕셔너리 형태로 제공하여 다양한 집계를 한 번에 수행할 수도 있습니다."
   ]
  },
  {
   "cell_type": "markdown",
   "metadata": {},
   "source": [
    "#### 1-3-1. 단일 집계 함수 사용"
   ]
  },
  {
   "cell_type": "code",
   "execution_count": 4,
   "metadata": {},
   "outputs": [
    {
     "name": "stdout",
     "output_type": "stream",
     "text": [
      "          Values\n",
      "Category        \n",
      "A           12.5\n",
      "B           15.0\n"
     ]
    }
   ],
   "source": [
    "df = DataFrame({\n",
    "    'Category': ['A', 'A', 'B', 'B'],\n",
    "    'Values': [10, 15, 10, 20]\n",
    "})\n",
    "\n",
    "# 평균을 집계 함수로 사용\n",
    "pivot = pd.pivot_table(\n",
    "    df, values='Values', index='Category', aggfunc='mean'\n",
    ")\n",
    "print(pivot)"
   ]
  },
  {
   "cell_type": "markdown",
   "metadata": {},
   "source": [
    "#### 1-3-2. 여러 집계 함수 사용\n",
    "여러 함수를 리스트로 제공하여 Values에 대해 각각의 집계를 수행할 수 있습니다."
   ]
  },
  {
   "cell_type": "code",
   "execution_count": 5,
   "metadata": {},
   "outputs": [
    {
     "name": "stdout",
     "output_type": "stream",
     "text": [
      "           mean    min    max\n",
      "         Values Values Values\n",
      "Category                     \n",
      "A          12.5     10     15\n",
      "B          15.0     10     20\n"
     ]
    }
   ],
   "source": [
    "# 평균, 최소값, 최대값을 집계 함수로 사용\n",
    "pivot = pd.pivot_table(\n",
    "    df, values='Values', index='Category', \n",
    "    aggfunc=['mean', 'min', 'max']\n",
    ")\n",
    "print(pivot)"
   ]
  },
  {
   "cell_type": "markdown",
   "metadata": {},
   "source": [
    "#### 1-3-3. 딕셔너리를 사용하여 열별로 다른 집계 함수 적용\n",
    "aggfunc에 딕셔너리를 사용하여 서로 다른 열에 대해 다른 집계 함수를 적용할 수 있습니다."
   ]
  },
  {
   "cell_type": "code",
   "execution_count": 6,
   "metadata": {},
   "outputs": [
    {
     "name": "stdout",
     "output_type": "stream",
     "text": [
      "          Quantity  Values\n",
      "Category                  \n",
      "A                3    12.5\n",
      "B                7    15.0\n"
     ]
    }
   ],
   "source": [
    "# 샘플 데이터 확장\n",
    "df['Quantity'] = [1, 2, 3, 4]\n",
    "\n",
    "# Values는 평균을, Quantity는 합계를 집계 함수로 사용\n",
    "pivot = pd.pivot_table(\n",
    "    df, values=['Values', 'Quantity'], index='Category', \n",
    "    aggfunc={'Values': 'mean', 'Quantity': 'sum'}\n",
    ")\n",
    "print(pivot)"
   ]
  },
  {
   "cell_type": "markdown",
   "metadata": {},
   "source": [
    "#### 1-3-4. 주요 집계 함수(aggfunc)\n",
    "\n",
    "* 'mean' : 평균 값을 계산합니다.\n",
    "\n",
    "* 'median' : 중앙값을 계산합니다.\n",
    "\n",
    "* 'sum' : 합계를 계산합니다.\n",
    "\n",
    "* 'std' : 표준 편차를 계산합니다.\n",
    "\n",
    "* 'var' : 분산을 계산합니다.\n",
    "\n",
    "* 'min' : 최소값을 찾습니다.\n",
    "\n",
    "* 'max' : 최대값을 찾습니다.\n",
    "\n",
    "* 'count' : 0이 아닌 값의 개수를 세거나, 특정 조건을 만족하는 항목의 수를 계산합니다.\n",
    "\n",
    "* 'nunique' : 고유값의 개수를 세어줍니다.\n",
    "\n",
    "* 'first' 또는 'last' : 각 그룹의 첫번째 또는 마지막 값에 접근합니다."
   ]
  },
  {
   "cell_type": "code",
   "execution_count": 7,
   "metadata": {},
   "outputs": [
    {
     "name": "stdout",
     "output_type": "stream",
     "text": [
      "          Values\n",
      "Category        \n",
      "A           12.5\n",
      "B           15.0\n"
     ]
    }
   ],
   "source": [
    "pivot = pd.pivot_table(\n",
    "    df, values='Values', \n",
    "    index='Category', aggfunc='mean'\n",
    ")\n",
    "print(pivot)"
   ]
  },
  {
   "cell_type": "code",
   "execution_count": 8,
   "metadata": {},
   "outputs": [
    {
     "name": "stdout",
     "output_type": "stream",
     "text": [
      "            Values\n",
      "Category          \n",
      "A         3.535534\n",
      "B         7.071068\n"
     ]
    }
   ],
   "source": [
    "pivot = pd.pivot_table(\n",
    "    df, values='Values', index='Category', aggfunc='std'\n",
    ")\n",
    "print(pivot)"
   ]
  },
  {
   "cell_type": "markdown",
   "metadata": {},
   "source": [
    "#### 1-3-5. 사용자 정의 집계 함수\n",
    "aggfunc 매개변수는 사용자 정의 함수도 받을 수 있습니다. 이를 통해 더 복잡한 집계 로직을 구현할 수 있습니다.\n",
    "\n",
    "사용자 정의 함수는 DataFrame의 각 컬럼(또는 values에 지정된 컬럼)에 대해 호출되며, 해당 컬럼의 데이터를 인자로 받아 집계된 값을 반환해야 합니다."
   ]
  },
  {
   "cell_type": "code",
   "execution_count": 9,
   "metadata": {},
   "outputs": [
    {
     "name": "stdout",
     "output_type": "stream",
     "text": [
      "          Values\n",
      "Category        \n",
      "A              5\n",
      "B             10\n"
     ]
    }
   ],
   "source": [
    "def range_func(series):\n",
    "    return series.max() - series.min()\n",
    "\n",
    "pivot_table = pd.pivot_table(\n",
    "    df, values='Values', index='Category', \n",
    "    aggfunc=range_func\n",
    ")\n",
    "\n",
    "print(pivot_table)"
   ]
  },
  {
   "cell_type": "markdown",
   "metadata": {},
   "source": [
    "## 2. groupby 함수\n",
    "pandas의 groupby 함수를 사용하면 데이터를 그룹화하여 집계, 변환, 필터링 하는 작업을 쉽게 수행할 수 있습니다.\n",
    "\n",
    "이 함수는 SQL의 'GROUP BY' 명령어와 유사한 방식으로 작동하며, 하나 이상의 컬럼을 기준으로 데이터를 그룹화하고, 각 그룹에 대해 집계 함수를 적용합니다."
   ]
  },
  {
   "cell_type": "markdown",
   "metadata": {},
   "source": [
    "### 2-1. 기본 작동 원리\n",
    "groupby는 크게 세 단계로 작동합니다. 분할(Split), 적용(Apply), 결합(Combine).\n",
    "\n",
    "* 분할(Split) : 데이터를 특정 기준에 따라 여러 그룹으로 분할합니다.\n",
    "\n",
    "* 적용(Apply) : 각 그룹에 대해 집계, 변환, 필터링 등의 연산을 적용합니다.\n",
    "\n",
    "* 결합(Combine) : 연산의 결과를 하나의 데이터 구조로 결합합니다."
   ]
  },
  {
   "cell_type": "code",
   "execution_count": null,
   "metadata": {},
   "outputs": [],
   "source": [
    "df.groupby(\n",
    "    by=None, axis=0, level=None, as_index=True, sort=True, \n",
    "    group_keys=True, dropna=True\n",
    ")"
   ]
  },
  {
   "cell_type": "markdown",
   "metadata": {},
   "source": [
    "[주요 매개변수]\n",
    "\n",
    "* by : 그룹화할 기준을 설정합니다. 컬럼 이름이나, 컬럼을 선택하는 함수, 컬럼 이름의 리스트 등을 사용할 수 있습니다.\n",
    "\n",
    "* axis : 0은 행을 기준으로 그룹화하고, 1은 열을 기준으로 그룹화합니다.\n",
    "\n",
    "* level : 멀티인덱스인 경우, 인덱스의 라벨을 기준으로 그룹화합니다.\n",
    "\n",
    "* as_index : True일 경우, 그룹 라벨을 인덱스로 사용합니다. False일 경우, 그룹 라벨이 인덱스로 사용되지 않고, 데이터 컬럼 중 하나로 남습니다.\n",
    "\n",
    "* sort : 그룹 키에 따라 정렬할지 여부를 결정합니다.\n",
    "\n",
    "* group_keys : 기본값은 True입니다. 이를 False로 설정하면, groupby에 의해 반환된 객체에서 그룹 키가 인덱스에 추가되지 않습니다. 그룹화 작업 후, 결과 DataFrame에서 그룹화를 위해 사용된 컬럼이 멀티인덱스의 일부로 포함되지 않게 합니다.\n",
    "\n",
    "* dropna : 기본값은 True입니다. False로 설정하면, 그룹화하는 과정에서 NA(null) 값을 하나의 그룹으로 간주합니다. 이는 데이터 분석 시 NA 값을 따로 분류하고 싶을 때 유용할 수 있습니다."
   ]
  },
  {
   "cell_type": "markdown",
   "metadata": {},
   "source": [
    "### 2-2. 기본 사용 예시\n",
    "#### 2-2-1. 데이터 준비"
   ]
  },
  {
   "cell_type": "code",
   "execution_count": 10,
   "metadata": {},
   "outputs": [],
   "source": [
    "# 샘플 데이터 생성\n",
    "data = {\n",
    "    'City': ['Seoul', 'Seoul', 'Seoul', 'Busan', 'Busan', 'Daegu'],\n",
    "    'Year': [2020, 2021, 2022, 2020, 2021, 2022],\n",
    "    'Population': [9904312, 9853972, 9836486, 3448737, 3404423, 3428568],\n",
    "    'Temperature': [11.0, 11.5, 12.0, 14.0, 14.5, 15.0]\n",
    "}\n",
    "df = DataFrame(data)"
   ]
  },
  {
   "cell_type": "code",
   "execution_count": 11,
   "metadata": {},
   "outputs": [
    {
     "data": {
      "text/html": [
       "<div>\n",
       "<style scoped>\n",
       "    .dataframe tbody tr th:only-of-type {\n",
       "        vertical-align: middle;\n",
       "    }\n",
       "\n",
       "    .dataframe tbody tr th {\n",
       "        vertical-align: top;\n",
       "    }\n",
       "\n",
       "    .dataframe thead th {\n",
       "        text-align: right;\n",
       "    }\n",
       "</style>\n",
       "<table border=\"1\" class=\"dataframe\">\n",
       "  <thead>\n",
       "    <tr style=\"text-align: right;\">\n",
       "      <th></th>\n",
       "      <th>City</th>\n",
       "      <th>Year</th>\n",
       "      <th>Population</th>\n",
       "      <th>Temperature</th>\n",
       "    </tr>\n",
       "  </thead>\n",
       "  <tbody>\n",
       "    <tr>\n",
       "      <th>0</th>\n",
       "      <td>Seoul</td>\n",
       "      <td>2020</td>\n",
       "      <td>9904312</td>\n",
       "      <td>11.0</td>\n",
       "    </tr>\n",
       "    <tr>\n",
       "      <th>1</th>\n",
       "      <td>Seoul</td>\n",
       "      <td>2021</td>\n",
       "      <td>9853972</td>\n",
       "      <td>11.5</td>\n",
       "    </tr>\n",
       "    <tr>\n",
       "      <th>2</th>\n",
       "      <td>Seoul</td>\n",
       "      <td>2022</td>\n",
       "      <td>9836486</td>\n",
       "      <td>12.0</td>\n",
       "    </tr>\n",
       "    <tr>\n",
       "      <th>3</th>\n",
       "      <td>Busan</td>\n",
       "      <td>2020</td>\n",
       "      <td>3448737</td>\n",
       "      <td>14.0</td>\n",
       "    </tr>\n",
       "    <tr>\n",
       "      <th>4</th>\n",
       "      <td>Busan</td>\n",
       "      <td>2021</td>\n",
       "      <td>3404423</td>\n",
       "      <td>14.5</td>\n",
       "    </tr>\n",
       "    <tr>\n",
       "      <th>5</th>\n",
       "      <td>Daegu</td>\n",
       "      <td>2022</td>\n",
       "      <td>3428568</td>\n",
       "      <td>15.0</td>\n",
       "    </tr>\n",
       "  </tbody>\n",
       "</table>\n",
       "</div>"
      ],
      "text/plain": [
       "    City  Year  Population  Temperature\n",
       "0  Seoul  2020     9904312         11.0\n",
       "1  Seoul  2021     9853972         11.5\n",
       "2  Seoul  2022     9836486         12.0\n",
       "3  Busan  2020     3448737         14.0\n",
       "4  Busan  2021     3404423         14.5\n",
       "5  Daegu  2022     3428568         15.0"
      ]
     },
     "execution_count": 11,
     "metadata": {},
     "output_type": "execute_result"
    }
   ],
   "source": [
    "df"
   ]
  },
  {
   "cell_type": "markdown",
   "metadata": {},
   "source": [
    "#### 2-2-2. grouped 객체 생성"
   ]
  },
  {
   "cell_type": "code",
   "execution_count": 12,
   "metadata": {},
   "outputs": [],
   "source": [
    "grouped = df.groupby('City')"
   ]
  },
  {
   "cell_type": "code",
   "execution_count": 13,
   "metadata": {},
   "outputs": [
    {
     "name": "stdout",
     "output_type": "stream",
     "text": [
      "<pandas.core.groupby.generic.DataFrameGroupBy object at 0x104b7d010>\n"
     ]
    }
   ],
   "source": [
    "print(grouped)"
   ]
  },
  {
   "cell_type": "markdown",
   "metadata": {},
   "source": [
    "groupby 메서드를 통해서 그룹화된 객체를 일반적으로 'grouped' 객체라고 합니다. 현재 grouped 변수에 대입된 grouped 객체는 실제 데이터를 그룹화된 형태로 포함하지 않지만, 각 그룹에 대한 정보와 그룹별로 연산을 수행할 수 있는 메커니즘을 제공합니다."
   ]
  },
  {
   "cell_type": "markdown",
   "metadata": {},
   "source": [
    "#### 2-2-3. 단일 열을 기준으로 그룹화\n",
    "각 도시의 인구('Population')의 평균 계산"
   ]
  },
  {
   "cell_type": "code",
   "execution_count": 14,
   "metadata": {},
   "outputs": [
    {
     "name": "stdout",
     "output_type": "stream",
     "text": [
      "City\n",
      "Busan    3.426580e+06\n",
      "Daegu    3.428568e+06\n",
      "Seoul    9.864923e+06\n",
      "Name: Population, dtype: float64\n"
     ]
    }
   ],
   "source": [
    "grouped = df.groupby('City')\n",
    "average_population = grouped['Population'].mean()\n",
    "print(average_population)"
   ]
  },
  {
   "cell_type": "markdown",
   "metadata": {},
   "source": [
    "#### 2-2-4. 여러 열을 기준으로 그룹화\n",
    "'City'와 'Year' 열을 기준으로 데이터를 그룹화하고, 각 그룹의 최대 온도('Temperature')를 계산합니다."
   ]
  },
  {
   "cell_type": "code",
   "execution_count": 15,
   "metadata": {},
   "outputs": [
    {
     "name": "stdout",
     "output_type": "stream",
     "text": [
      "City   Year\n",
      "Busan  2020    14.0\n",
      "       2021    14.5\n",
      "Daegu  2022    15.0\n",
      "Seoul  2020    11.0\n",
      "       2021    11.5\n",
      "       2022    12.0\n",
      "Name: Temperature, dtype: float64\n"
     ]
    }
   ],
   "source": [
    "grouped = df.groupby(['City', 'Year'])\n",
    "max_temperature = grouped['Temperature'].max()\n",
    "print(max_temperature)"
   ]
  },
  {
   "cell_type": "code",
   "execution_count": 16,
   "metadata": {},
   "outputs": [
    {
     "data": {
      "text/html": [
       "<div>\n",
       "<style scoped>\n",
       "    .dataframe tbody tr th:only-of-type {\n",
       "        vertical-align: middle;\n",
       "    }\n",
       "\n",
       "    .dataframe tbody tr th {\n",
       "        vertical-align: top;\n",
       "    }\n",
       "\n",
       "    .dataframe thead th {\n",
       "        text-align: right;\n",
       "    }\n",
       "</style>\n",
       "<table border=\"1\" class=\"dataframe\">\n",
       "  <thead>\n",
       "    <tr style=\"text-align: right;\">\n",
       "      <th></th>\n",
       "      <th>City</th>\n",
       "      <th>Year</th>\n",
       "      <th>Population</th>\n",
       "      <th>Temperature</th>\n",
       "    </tr>\n",
       "  </thead>\n",
       "  <tbody>\n",
       "    <tr>\n",
       "      <th>0</th>\n",
       "      <td>Seoul</td>\n",
       "      <td>2020</td>\n",
       "      <td>9904312</td>\n",
       "      <td>11.0</td>\n",
       "    </tr>\n",
       "    <tr>\n",
       "      <th>1</th>\n",
       "      <td>Seoul</td>\n",
       "      <td>2021</td>\n",
       "      <td>9853972</td>\n",
       "      <td>11.5</td>\n",
       "    </tr>\n",
       "    <tr>\n",
       "      <th>2</th>\n",
       "      <td>Seoul</td>\n",
       "      <td>2022</td>\n",
       "      <td>9836486</td>\n",
       "      <td>12.0</td>\n",
       "    </tr>\n",
       "    <tr>\n",
       "      <th>3</th>\n",
       "      <td>Busan</td>\n",
       "      <td>2020</td>\n",
       "      <td>3448737</td>\n",
       "      <td>14.0</td>\n",
       "    </tr>\n",
       "    <tr>\n",
       "      <th>4</th>\n",
       "      <td>Busan</td>\n",
       "      <td>2021</td>\n",
       "      <td>3404423</td>\n",
       "      <td>14.5</td>\n",
       "    </tr>\n",
       "    <tr>\n",
       "      <th>5</th>\n",
       "      <td>Daegu</td>\n",
       "      <td>2022</td>\n",
       "      <td>3428568</td>\n",
       "      <td>15.0</td>\n",
       "    </tr>\n",
       "  </tbody>\n",
       "</table>\n",
       "</div>"
      ],
      "text/plain": [
       "    City  Year  Population  Temperature\n",
       "0  Seoul  2020     9904312         11.0\n",
       "1  Seoul  2021     9853972         11.5\n",
       "2  Seoul  2022     9836486         12.0\n",
       "3  Busan  2020     3448737         14.0\n",
       "4  Busan  2021     3404423         14.5\n",
       "5  Daegu  2022     3428568         15.0"
      ]
     },
     "execution_count": 16,
     "metadata": {},
     "output_type": "execute_result"
    }
   ],
   "source": [
    "df"
   ]
  },
  {
   "cell_type": "markdown",
   "metadata": {},
   "source": [
    "#### 2-2-5. 집계 함수 사용\n",
    "agg() 함수를 사용하여 각 그룹에 여러 집계 함수를 적용할 수 있습니다. 예를 들어, 도시별 최대 인구와 평균 온도를 계산할 수 있습니다."
   ]
  },
  {
   "cell_type": "code",
   "execution_count": 17,
   "metadata": {},
   "outputs": [
    {
     "name": "stdout",
     "output_type": "stream",
     "text": [
      "       Population  Temperature\n",
      "City                          \n",
      "Busan     3448737        14.25\n",
      "Daegu     3428568        15.00\n",
      "Seoul     9904312        11.50\n"
     ]
    }
   ],
   "source": [
    "aggregated = df.groupby('City').agg({\n",
    "    'Population': 'max',\n",
    "    'Temperature': 'mean'\n",
    "})\n",
    "print(aggregated)"
   ]
  },
  {
   "cell_type": "markdown",
   "metadata": {},
   "source": [
    "#### 2-2-6. 사용자 정의 함수 적용\n",
    "agg() 함수에 사용자 정의 함수를 전달하여 그룹별로 적용할 수 있습니다. 예를 들어, 각 도시의 인구 변화를 계산하는 함수를 적용해 봅니다."
   ]
  },
  {
   "cell_type": "code",
   "execution_count": 18,
   "metadata": {},
   "outputs": [
    {
     "name": "stdout",
     "output_type": "stream",
     "text": [
      "City\n",
      "Busan    44314\n",
      "Daegu        0\n",
      "Seoul    67826\n",
      "Name: Population, dtype: int64\n"
     ]
    }
   ],
   "source": [
    "def population_change(series):\n",
    "    return series.max() - series.min()\n",
    "\n",
    "change = df.groupby('City')['Population'].agg(population_change)\n",
    "print(change)"
   ]
  },
  {
   "cell_type": "markdown",
   "metadata": {},
   "source": [
    "### 2-3. 다양한 사용 방법 정리\n",
    "#### 2-3-1. 데이터 준비"
   ]
  },
  {
   "cell_type": "code",
   "execution_count": 19,
   "metadata": {},
   "outputs": [
    {
     "name": "stdout",
     "output_type": "stream",
     "text": [
      "         Date Product Category  Quantity  Price\n",
      "0  2023-01-01   Apple    Fruit         5    1.0\n",
      "1  2023-01-01  Banana    Fruit         7    0.5\n",
      "2  2023-01-02   Apple    Fruit         8    1.0\n",
      "3  2023-01-02  Banana    Fruit         4    0.5\n",
      "4  2023-01-03   Apple    Fruit         6    1.0\n",
      "5  2023-01-03  Banana    Fruit        10    0.5\n"
     ]
    }
   ],
   "source": [
    "# 샘플 판매 데이터 생성\n",
    "data = {\n",
    "    'Date': ['2023-01-01', '2023-01-01', '2023-01-02', \n",
    "            '2023-01-02', '2023-01-03', '2023-01-03'],\n",
    "    'Product': ['Apple', 'Banana', 'Apple', \n",
    "            'Banana', 'Apple', 'Banana'],\n",
    "    'Category': ['Fruit', 'Fruit', 'Fruit', \n",
    "            'Fruit', 'Fruit', 'Fruit'],\n",
    "    'Quantity': [5, 7, 8, 4, 6, 10],\n",
    "    'Price': [1.0, 0.5, 1.0, 0.5, 1.0, 0.5]\n",
    "}\n",
    "df = DataFrame(data)\n",
    "\n",
    "print(df)"
   ]
  },
  {
   "cell_type": "markdown",
   "metadata": {},
   "source": [
    "#### 2-3-2. 단일 열 기준 그룹화 및 집계"
   ]
  },
  {
   "cell_type": "code",
   "execution_count": 20,
   "metadata": {},
   "outputs": [
    {
     "name": "stdout",
     "output_type": "stream",
     "text": [
      "Date\n",
      "2023-01-01    12\n",
      "2023-01-02    12\n",
      "2023-01-03    16\n",
      "Name: Quantity, dtype: int64\n"
     ]
    }
   ],
   "source": [
    "total_sales_by_date = df.groupby('Date')['Quantity'].sum()\n",
    "print(total_sales_by_date)"
   ]
  },
  {
   "cell_type": "markdown",
   "metadata": {},
   "source": [
    "#### 2-3-3. 여러 열 기준 그룹화 및 집계"
   ]
  },
  {
   "cell_type": "code",
   "execution_count": 21,
   "metadata": {},
   "outputs": [
    {
     "name": "stdout",
     "output_type": "stream",
     "text": [
      "Date        Product\n",
      "2023-01-01  Apple       5\n",
      "            Banana      7\n",
      "2023-01-02  Apple       8\n",
      "            Banana      4\n",
      "2023-01-03  Apple       6\n",
      "            Banana     10\n",
      "Name: Quantity, dtype: int64\n"
     ]
    }
   ],
   "source": [
    "total_sales_by_date_product = df.groupby(\n",
    "    ['Date', 'Product']\n",
    ")['Quantity'].sum()\n",
    "print(total_sales_by_date_product)"
   ]
  },
  {
   "cell_type": "markdown",
   "metadata": {},
   "source": [
    "#### 2-3-4. 집계 함수 여러 개 적용"
   ]
  },
  {
   "cell_type": "code",
   "execution_count": 22,
   "metadata": {},
   "outputs": [
    {
     "name": "stdout",
     "output_type": "stream",
     "text": [
      "         Quantity  Price\n",
      "Product                 \n",
      "Apple          19    1.0\n",
      "Banana         21    0.5\n"
     ]
    }
   ],
   "source": [
    "stats_by_product = df.groupby(\n",
    "    'Product'\n",
    ").agg({'Quantity': 'sum', 'Price': 'mean'})\n",
    "print(stats_by_product)"
   ]
  },
  {
   "cell_type": "markdown",
   "metadata": {},
   "source": [
    "#### 2-3-5. 사용자 정의 집계 함수 적용"
   ]
  },
  {
   "cell_type": "code",
   "execution_count": 23,
   "metadata": {},
   "outputs": [
    {
     "name": "stdout",
     "output_type": "stream",
     "text": [
      "Product\n",
      "Apple     3\n",
      "Banana    6\n",
      "Name: Quantity, dtype: int64\n"
     ]
    }
   ],
   "source": [
    "def max_min_diff(series):\n",
    "    return series.max() - series.min()\n",
    "\n",
    "diff_by_product = df.groupby('Product')['Quantity'].agg(max_min_diff)\n",
    "print(diff_by_product)"
   ]
  },
  {
   "cell_type": "markdown",
   "metadata": {},
   "source": [
    "#### 2-3-6. transform 함수 사용\n",
    "* transform 함수는 그룹화된 데이터에 함수를 적용하고, 원본 데이터프레임과 동일한 크기의 결과를 반환합니다.\n",
    "* 이는 그룹별 계산 결과를 원 데이터프레임의 각 행에 추가 정보로 삽입하고 싶을 때 유용합니다."
   ]
  },
  {
   "cell_type": "code",
   "execution_count": 24,
   "metadata": {},
   "outputs": [
    {
     "name": "stdout",
     "output_type": "stream",
     "text": [
      "         Date Product Category  Quantity  Price  Total_Quantity  Sale_Ratio\n",
      "0  2023-01-01   Apple    Fruit         5    1.0              19    0.263158\n",
      "1  2023-01-01  Banana    Fruit         7    0.5              21    0.333333\n",
      "2  2023-01-02   Apple    Fruit         8    1.0              19    0.421053\n",
      "3  2023-01-02  Banana    Fruit         4    0.5              21    0.190476\n",
      "4  2023-01-03   Apple    Fruit         6    1.0              19    0.315789\n",
      "5  2023-01-03  Banana    Fruit        10    0.5              21    0.476190\n"
     ]
    }
   ],
   "source": [
    "df['Total_Quantity'] = df.groupby('Product')['Quantity'].transform('sum')\n",
    "df['Sale_Ratio'] = df['Quantity'] / df['Total_Quantity']\n",
    "print(df)"
   ]
  },
  {
   "cell_type": "markdown",
   "metadata": {},
   "source": [
    "#### 2-3-7. 필터링을 통한 그룹 선택\n",
    "* 그룹별로 조건을 설정하여 해당 조건을 통과한 그룹만 반환\n",
    "* 예시 : 평균 판매량이 6 이상인 제품만 필터링"
   ]
  },
  {
   "cell_type": "code",
   "execution_count": 25,
   "metadata": {},
   "outputs": [
    {
     "data": {
      "text/plain": [
       "Product\n",
       "Apple     6.333333\n",
       "Banana    7.000000\n",
       "Name: Quantity, dtype: float64"
      ]
     },
     "execution_count": 25,
     "metadata": {},
     "output_type": "execute_result"
    }
   ],
   "source": [
    "df.groupby('Product')['Quantity'].mean()"
   ]
  },
  {
   "cell_type": "code",
   "execution_count": 26,
   "metadata": {},
   "outputs": [
    {
     "name": "stdout",
     "output_type": "stream",
     "text": [
      "         Date Product Category  Quantity  Price  Total_Quantity  Sale_Ratio\n",
      "1  2023-01-01  Banana    Fruit         7    0.5              21    0.333333\n",
      "3  2023-01-02  Banana    Fruit         4    0.5              21    0.190476\n",
      "5  2023-01-03  Banana    Fruit        10    0.5              21    0.476190\n"
     ]
    }
   ],
   "source": [
    "filtered_products = df.groupby(\n",
    "    'Product'\n",
    ").filter(\n",
    "    lambda x: x['Quantity'].mean() > 6.5\n",
    ")\n",
    "print(filtered_products)"
   ]
  }
 ],
 "metadata": {
  "kernelspec": {
   "display_name": "base",
   "language": "python",
   "name": "python3"
  },
  "language_info": {
   "codemirror_mode": {
    "name": "ipython",
    "version": 3
   },
   "file_extension": ".py",
   "mimetype": "text/x-python",
   "name": "python",
   "nbconvert_exporter": "python",
   "pygments_lexer": "ipython3",
   "version": "3.11.7"
  }
 },
 "nbformat": 4,
 "nbformat_minor": 2
}

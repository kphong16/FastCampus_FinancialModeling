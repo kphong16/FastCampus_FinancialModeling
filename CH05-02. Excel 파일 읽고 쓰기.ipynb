{
 "cells": [
  {
   "cell_type": "markdown",
   "metadata": {},
   "source": [
    "# [ 5-2. Excel 파일 읽고 쓰기 ]"
   ]
  },
  {
   "cell_type": "markdown",
   "metadata": {},
   "source": [
    "## 1. DataFrame을 Excel 파일로 쓰기\n",
    "Pandas의 DataFrame의 'to_excel' 메서드를 사용하면 DataFrame을 바로 Excel 파일로 변환할 수 있습니다."
   ]
  },
  {
   "cell_type": "code",
   "execution_count": 1,
   "metadata": {},
   "outputs": [
    {
     "name": "stdout",
     "output_type": "stream",
     "text": [
      "    Name  Age      City\n",
      "0   John   28  New York\n",
      "1   Anna   34     Paris\n",
      "2  Peter   29    Berlin\n",
      "3  Linda   32    London\n"
     ]
    }
   ],
   "source": [
    "# 예시 데이터프레임 작성\n",
    "import pandas as pd\n",
    "from pandas import DataFrame\n",
    "\n",
    "data = {\n",
    "    'Name': ['John', 'Anna', 'Peter', 'Linda'],\n",
    "    'Age': [28, 34, 29, 32],\n",
    "    'City': ['New York', 'Paris', 'Berlin', 'London']\n",
    "}\n",
    "\n",
    "df = DataFrame(data)\n",
    "print(df)"
   ]
  },
  {
   "cell_type": "code",
   "execution_count": 3,
   "metadata": {},
   "outputs": [],
   "source": [
    "# csv 파일로 저장하기\n",
    "df.to_excel('excel_data2.xlsx', index=False, engine='openpyxl')"
   ]
  },
  {
   "cell_type": "markdown",
   "metadata": {},
   "source": [
    "* 위 코드는 'excel_data2.xlsx' 라는 이름으로 DataFrame의 내용을 엑셀 파일로 저장합니다.\n",
    "\n",
    "* index=False 옵션은 DataFrame의 인덱스를 엑셀 파일에 포함하지 않도록 합니다.\n",
    "\n",
    "* engine=openpyxl 옵션은 엑셀 파일을 생성하기 위해 openpyxl 엔진을 사용하겠다는 것을 명시합니다."
   ]
  },
  {
   "cell_type": "markdown",
   "metadata": {},
   "source": [
    "## 2. Excel 파일을 DataFrame으로 읽어들이기\n",
    "pd.read_excel 메서드를 사용하여 저장된 excel 파일을 다시 불러와 DataFrame으로 변환할 수 있습니다."
   ]
  },
  {
   "cell_type": "code",
   "execution_count": 5,
   "metadata": {},
   "outputs": [
    {
     "name": "stdout",
     "output_type": "stream",
     "text": [
      "    Name  Age      City\n",
      "0   John   28  New York\n",
      "1   Anna   34     Paris\n",
      "2  Peter   29    Berlin\n",
      "3  Linda   32    London\n"
     ]
    }
   ],
   "source": [
    "# Excel 파일을 DataFrame으로 불러오기\n",
    "loaded_df = pd.read_excel('excel_data2.xlsx')\n",
    "\n",
    "print(loaded_df)"
   ]
  },
  {
   "cell_type": "markdown",
   "metadata": {},
   "source": [
    "## 3. openpyxl 라이브러리를 이용하여 excel 파일을 읽고, DataFrame으로 설정하기\n",
    "* 엑셀 파일을 읽을 때는 openpyxl의 load_workbook을 이용하여 엑셀 워크북을 읽어와 wb 객체를 생성합니다.\n",
    "\n",
    "* ws(work sheet) 객체는 wb.active 또는 wb['Sheet1'] 과 같이 특정 시트를 지정하는 방식으로 생성할 수 있습니다.\n",
    "\n",
    "* ws객체의 iter_rows 메서드를 이용하여 한 행씩 읽어들이면서 첫번째 행은 columns 변수에, 나머지는 딕셔너리 형태로 변환하여 data 변수에 저장합니다.\n",
    "\n",
    "* 마지막으로 data 객체를 DataFrame으로 변환합니다."
   ]
  },
  {
   "cell_type": "code",
   "execution_count": 7,
   "metadata": {},
   "outputs": [
    {
     "name": "stdout",
     "output_type": "stream",
     "text": [
      "    Name  Age      City\n",
      "0   John   28  New York\n",
      "1   Anna   34     Paris\n",
      "2  Peter   29    Berlin\n",
      "3  Linda   32    London\n"
     ]
    }
   ],
   "source": [
    "from openpyxl import load_workbook\n",
    "import pandas as pd\n",
    "\n",
    "# 엑셀 파일 로드\n",
    "wb = load_workbook('excel_data2.xlsx')\n",
    "ws = wb.active\n",
    "\n",
    "# 첫번째 행(컬럼 이름) 가져오기\n",
    "columns = [\n",
    "    cell.value \n",
    "    for cell \n",
    "    in next(ws.iter_rows(min_row=1, max_row=1))\n",
    "]\n",
    "\n",
    "# 데이터를 딕셔너리 리스트로 변환\n",
    "data = []\n",
    "for row in ws.iter_rows(min_row=2):\n",
    "    record = {columns[i]: cell.value for i, cell in enumerate(row)}\n",
    "    data.append(record)\n",
    "\n",
    "# 딕셔너리 리스트를 DataFrame으로 변환\n",
    "df = pd.DataFrame(data)\n",
    "\n",
    "print(df)"
   ]
  },
  {
   "cell_type": "markdown",
   "metadata": {},
   "source": [
    "## 4. openpyxl 라이브러리를 이용하여 DataFrame을 Excel 파일로 쓰기"
   ]
  },
  {
   "cell_type": "code",
   "execution_count": 8,
   "metadata": {},
   "outputs": [],
   "source": [
    "from openpyxl import Workbook\n",
    "\n",
    "# 새로운 Workbook 생성\n",
    "wb = Workbook()\n",
    "ws = wb.active\n",
    "\n",
    "# DataFrame의 컬럼명을 엑셀 파일의 첫번째 행으로 추가\n",
    "ws.append(list(df.columns))\n",
    "\n",
    "# DataFrame의 각 행을 엑셀 파일에 추가\n",
    "for index, row in df.iterrows():\n",
    "    ws.append(row.tolist())\n",
    "\n",
    "# 엑셀 파일 저장\n",
    "wb.save('excel_data3.xlsx')"
   ]
  },
  {
   "cell_type": "code",
   "execution_count": 9,
   "metadata": {},
   "outputs": [
    {
     "data": {
      "text/html": [
       "<div>\n",
       "<style scoped>\n",
       "    .dataframe tbody tr th:only-of-type {\n",
       "        vertical-align: middle;\n",
       "    }\n",
       "\n",
       "    .dataframe tbody tr th {\n",
       "        vertical-align: top;\n",
       "    }\n",
       "\n",
       "    .dataframe thead th {\n",
       "        text-align: right;\n",
       "    }\n",
       "</style>\n",
       "<table border=\"1\" class=\"dataframe\">\n",
       "  <thead>\n",
       "    <tr style=\"text-align: right;\">\n",
       "      <th></th>\n",
       "      <th>Name</th>\n",
       "      <th>Age</th>\n",
       "      <th>City</th>\n",
       "    </tr>\n",
       "  </thead>\n",
       "  <tbody>\n",
       "    <tr>\n",
       "      <th>0</th>\n",
       "      <td>John</td>\n",
       "      <td>28</td>\n",
       "      <td>New York</td>\n",
       "    </tr>\n",
       "    <tr>\n",
       "      <th>1</th>\n",
       "      <td>Anna</td>\n",
       "      <td>34</td>\n",
       "      <td>Paris</td>\n",
       "    </tr>\n",
       "    <tr>\n",
       "      <th>2</th>\n",
       "      <td>Peter</td>\n",
       "      <td>29</td>\n",
       "      <td>Berlin</td>\n",
       "    </tr>\n",
       "    <tr>\n",
       "      <th>3</th>\n",
       "      <td>Linda</td>\n",
       "      <td>32</td>\n",
       "      <td>London</td>\n",
       "    </tr>\n",
       "  </tbody>\n",
       "</table>\n",
       "</div>"
      ],
      "text/plain": [
       "    Name  Age      City\n",
       "0   John   28  New York\n",
       "1   Anna   34     Paris\n",
       "2  Peter   29    Berlin\n",
       "3  Linda   32    London"
      ]
     },
     "execution_count": 9,
     "metadata": {},
     "output_type": "execute_result"
    }
   ],
   "source": [
    "# 파일 출력이 제대로 되었는지 확인\n",
    "pd.read_excel('excel_data3.xlsx')"
   ]
  },
  {
   "cell_type": "code",
   "execution_count": null,
   "metadata": {},
   "outputs": [],
   "source": []
  }
 ],
 "metadata": {
  "kernelspec": {
   "display_name": "fastcampus",
   "language": "python",
   "name": "python3"
  },
  "language_info": {
   "codemirror_mode": {
    "name": "ipython",
    "version": 3
   },
   "file_extension": ".py",
   "mimetype": "text/x-python",
   "name": "python",
   "nbconvert_exporter": "python",
   "pygments_lexer": "ipython3",
   "version": "3.11.7"
  }
 },
 "nbformat": 4,
 "nbformat_minor": 2
}

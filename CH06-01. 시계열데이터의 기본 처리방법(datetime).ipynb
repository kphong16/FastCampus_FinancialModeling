{
 "cells": [
  {
   "cell_type": "markdown",
   "metadata": {},
   "source": [
    "# [ 6-1. 시계열데이터의 기본 처리방법(datetime) ]"
   ]
  },
  {
   "cell_type": "markdown",
   "metadata": {},
   "source": [
    "## 1. datetime 라이브러리 소개\n",
    "Python 표준 라이브러리인 datetime 라이브러리는 날짜와 시간을 다루기 위한 다양한 모듈을 제공합니다. 이를 사용하여 날자와 시간을 생성, 조작, 연산, 포맷팅하는 등의 작업을 수행할 수 있습니다.\n",
    "### 1-1. 주요 모듈과 기능\n",
    "* date : 연, 월, 일을 표현합니다.\n",
    "* time : 시간, 분, 초, 마이크로초를 표현합니다.\n",
    "* datetime : 날짜와 시간을 함께 표현합니다.\n",
    "* timedelta : 두 날짜나 시간 사이의 차이를 표현합니다.\n",
    "* tzinfo : 시간대 관련 정보를 표현하는 기본 클래스 입니다."
   ]
  },
  {
   "cell_type": "markdown",
   "metadata": {},
   "source": [
    "### 1-2. datetime 객체 생성 예시\n",
    "#### 1-2-1. datetime 객체 생성하기"
   ]
  },
  {
   "cell_type": "code",
   "execution_count": 3,
   "metadata": {},
   "outputs": [
    {
     "name": "stdout",
     "output_type": "stream",
     "text": [
      "현재 시간 :  2024-03-01 17:21:24.748900\n"
     ]
    }
   ],
   "source": [
    "# datetime 라이브러리에서 datetime 모듈 임포트하기\n",
    "from datetime import datetime\n",
    "\n",
    "# 현재 시간 가져오기(datetime 모듈의 now() 메서드 사용)\n",
    "now = datetime.now()\n",
    "print(\"현재 시간 : \", now)"
   ]
  },
  {
   "cell_type": "code",
   "execution_count": 7,
   "metadata": {},
   "outputs": [
    {
     "name": "stdout",
     "output_type": "stream",
     "text": [
      "2024-03-01 10:32:10\n"
     ]
    }
   ],
   "source": [
    "# 직접 연월일을 입력하여 datetime 객체 생성하기\n",
    "dt = datetime(2024, 3, 1, 10, 32, 10)\n",
    "print(dt)"
   ]
  },
  {
   "cell_type": "code",
   "execution_count": 8,
   "metadata": {},
   "outputs": [
    {
     "name": "stdout",
     "output_type": "stream",
     "text": [
      "2024-03-01 00:00:00\n"
     ]
    }
   ],
   "source": [
    "dt = datetime(2024, 3, 1)\n",
    "print(dt)"
   ]
  },
  {
   "cell_type": "code",
   "execution_count": 11,
   "metadata": {},
   "outputs": [
    {
     "name": "stdout",
     "output_type": "stream",
     "text": [
      "2024-03-01\n"
     ]
    }
   ],
   "source": [
    "# date 객체로 변환하기\n",
    "print(dt.date())"
   ]
  },
  {
   "cell_type": "markdown",
   "metadata": {},
   "source": [
    "#### 1-2-2. date, time 객체 생성하기"
   ]
  },
  {
   "cell_type": "code",
   "execution_count": 4,
   "metadata": {},
   "outputs": [
    {
     "name": "stdout",
     "output_type": "stream",
     "text": [
      "날짜 :  2020-01-01\n",
      "시간 :  12:30:00\n"
     ]
    }
   ],
   "source": [
    "# datetime 라이브러리에서 date, time 모듈 임포트하기\n",
    "from datetime import date, time\n",
    "\n",
    "# date 객체 생성하기\n",
    "d = date(2020, 1, 1)\n",
    "print(\"날짜 : \", d)\n",
    "\n",
    "# time 객체 생성하기\n",
    "t = time(12, 30)\n",
    "print(\"시간 : \", t)"
   ]
  },
  {
   "cell_type": "markdown",
   "metadata": {},
   "source": [
    "### 1-3. 날짜와 시간 연산하기\n",
    "#### 1-3-1. 특정 날짜로부터 일정 기간 후의 날짜 계산하기"
   ]
  },
  {
   "cell_type": "code",
   "execution_count": 14,
   "metadata": {},
   "outputs": [
    {
     "name": "stdout",
     "output_type": "stream",
     "text": [
      "10일 후: 2023-01-11 00:00:00\n"
     ]
    }
   ],
   "source": [
    "from datetime import datetime, timedelta\n",
    "\n",
    "# 2023년 1월 1일로부터 10일 후\n",
    "start_date = datetime(2023, 1, 1)\n",
    "days_after = start_date + timedelta(days=10)\n",
    "print(\"10일 후:\", days_after)"
   ]
  },
  {
   "cell_type": "code",
   "execution_count": 18,
   "metadata": {},
   "outputs": [
    {
     "name": "stdout",
     "output_type": "stream",
     "text": [
      "10일 후: 2023-01-11\n"
     ]
    }
   ],
   "source": [
    "# date객체에 대해서 날짜 계산하기\n",
    "start_date = date(2023, 1, 1)\n",
    "days_after = start_date + timedelta(days=10)\n",
    "print(\"10일 후:\", days_after)"
   ]
  },
  {
   "cell_type": "markdown",
   "metadata": {},
   "source": [
    "#### 1-3-2. 두 날짜 간의 차이 계산하기"
   ]
  },
  {
   "cell_type": "code",
   "execution_count": 19,
   "metadata": {},
   "outputs": [
    {
     "name": "stdout",
     "output_type": "stream",
     "text": [
      "두 날짜의 차이 (일): 17\n"
     ]
    }
   ],
   "source": [
    "date1 = datetime(2023, 1, 15)\n",
    "date2 = datetime(2023, 2, 1)\n",
    "difference = date2 - date1\n",
    "print(\"두 날짜의 차이 (일):\", difference.days)"
   ]
  },
  {
   "cell_type": "code",
   "execution_count": 21,
   "metadata": {},
   "outputs": [
    {
     "name": "stdout",
     "output_type": "stream",
     "text": [
      "두 날짜의 차이 (일): 17\n"
     ]
    }
   ],
   "source": [
    "date1 = date(2023, 1, 15)\n",
    "date2 = date(2023, 2, 1)\n",
    "difference = date2 - date1\n",
    "print(\"두 날짜의 차이 (일):\", difference.days)"
   ]
  },
  {
   "cell_type": "markdown",
   "metadata": {},
   "source": [
    "#### 1-3-3. 날짜에서 일정 기간 연산"
   ]
  },
  {
   "cell_type": "code",
   "execution_count": 22,
   "metadata": {},
   "outputs": [
    {
     "name": "stdout",
     "output_type": "stream",
     "text": [
      "2주 전: 2023-02-15 00:00:00\n"
     ]
    }
   ],
   "source": [
    "# 2023년 3월 1일로부터 2주 전\n",
    "target_date = datetime(2023, 3, 1)\n",
    "weeks_before = target_date - timedelta(weeks=2)\n",
    "print(\"2주 전:\", weeks_before)"
   ]
  },
  {
   "cell_type": "code",
   "execution_count": 25,
   "metadata": {},
   "outputs": [
    {
     "name": "stdout",
     "output_type": "stream",
     "text": [
      "2주 전: 2023-02-15\n"
     ]
    }
   ],
   "source": [
    "# 2023년 3월 1일로부터 2주 전\n",
    "target_date = date(2023, 3, 1)\n",
    "weeks_before = target_date - timedelta(weeks=2)\n",
    "print(\"2주 전:\", weeks_before)"
   ]
  },
  {
   "cell_type": "markdown",
   "metadata": {},
   "source": [
    "#### 1-3-4. 현재 시각으로부터 특정 시간 더하기"
   ]
  },
  {
   "cell_type": "code",
   "execution_count": 29,
   "metadata": {},
   "outputs": [
    {
     "name": "stdout",
     "output_type": "stream",
     "text": [
      "5시간 30분 후: 2024-03-01 23:07:51.530961\n"
     ]
    }
   ],
   "source": [
    "# 현재 시각으로부터 5시간 30분 후\n",
    "now = datetime.now()\n",
    "hours_later = now + timedelta(hours=5, minutes=30)\n",
    "print(\"5시간 30분 후:\", hours_later)"
   ]
  },
  {
   "cell_type": "markdown",
   "metadata": {},
   "source": [
    "#### 1-3-5. 초 단위로 날짜와 시간 연산하기"
   ]
  },
  {
   "cell_type": "code",
   "execution_count": 28,
   "metadata": {},
   "outputs": [
    {
     "name": "stdout",
     "output_type": "stream",
     "text": [
      "3600초(1시간) 후: 2024-03-01 18:37:41.347988\n"
     ]
    }
   ],
   "source": [
    "# 현재 시각으로부터 3600초(1시간) 후\n",
    "now = datetime.now()\n",
    "one_hour_later = now + timedelta(seconds=3600)\n",
    "print(\"3600초(1시간) 후:\", one_hour_later)"
   ]
  },
  {
   "cell_type": "markdown",
   "metadata": {},
   "source": [
    "### 1-4. timedelta에서 사용 가능한 매개변수\n",
    "timedelta 객체는 두 날짜나 시간 사이의 차이를 표현할 때 사용되며, timedelta를 사용할 때 다음과 같은 매개변수를 지정할 수 있습니다:\n",
    "\n",
    "* weeks: 주를 나타내며, 정수 또는 부동소수점 수가 될 수 있습니다. 주는 일(days)로 변환되어 저장됩니다.\n",
    "* days: 일 수를 나타내며, 정수 또는 부동소수점 수가 될 수 있습니다.\n",
    "* hours: 시간을 나타내며, 정수 또는 부동소수점 수가 될 수 있습니다. 시간은 초(seconds)로 변환되어 저장됩니다.\n",
    "* minutes: 분을 나타내며, 정수 또는 부동소수점 수가 될 수 있습니다. 분은 초(seconds)로 변환되어 저장됩니다.\n",
    "* seconds: 초를 나타내며, 정수 또는 부동소수점 수가 될 수 있습니다. (0에서 86399 사이)\n",
    "* milliseconds: 밀리초를 나타내며, 정수 또는 부동소수점 수가 될 수 있습니다. 밀리초는 초(seconds)로 변환되어 저장됩니다.\n",
    "* microseconds: 마이크로초를 나타내며, 정수 또는 부동소수점 수가 될 수 있습니다."
   ]
  },
  {
   "cell_type": "markdown",
   "metadata": {},
   "source": [
    "## 2. 날짜와 시간 formatting 하기\n",
    "### 2-1. strftime 메서드 사용하기\n",
    "datetime 모듈의 strftime() 메서드를 사용하여 날짜와 시간을 다양한 형식의 문자열로 formatting 할 수 있습니다."
   ]
  },
  {
   "cell_type": "markdown",
   "metadata": {},
   "source": [
    "#### 2-1-1. 예시 1: 연-월-일 포맷"
   ]
  },
  {
   "cell_type": "code",
   "execution_count": 30,
   "metadata": {},
   "outputs": [
    {
     "name": "stdout",
     "output_type": "stream",
     "text": [
      "현재 날짜 (연-월-일): 2024-03-01\n"
     ]
    }
   ],
   "source": [
    "\n",
    "now = datetime.now()\n",
    "formatted_date = now.strftime(\"%Y-%m-%d\")\n",
    "print(\"현재 날짜 (연-월-일):\", formatted_date)"
   ]
  },
  {
   "cell_type": "code",
   "execution_count": 41,
   "metadata": {},
   "outputs": [
    {
     "name": "stdout",
     "output_type": "stream",
     "text": [
      "현재 날짜 (연-월-일): 2024-03-01\n"
     ]
    }
   ],
   "source": [
    "dt = now.date()\n",
    "formatted_date = dt.strftime(\"%Y-%m-%d\")\n",
    "print(\"현재 날짜 (연-월-일):\", formatted_date)"
   ]
  },
  {
   "cell_type": "markdown",
   "metadata": {},
   "source": [
    "#### 2-1-2. 예시 2: 12시간 형식의 시간과 AM/PM 표시"
   ]
  },
  {
   "cell_type": "code",
   "execution_count": 31,
   "metadata": {},
   "outputs": [
    {
     "name": "stdout",
     "output_type": "stream",
     "text": [
      "현재 시간 (12시간 형식, AM/PM): 05:44:46 PM\n"
     ]
    }
   ],
   "source": [
    "formatted_time = now.strftime(\"%I:%M:%S %p\")\n",
    "print(\"현재 시간 (12시간 형식, AM/PM):\", formatted_time)"
   ]
  },
  {
   "cell_type": "markdown",
   "metadata": {},
   "source": [
    "#### 2-1-3. 예시 3: 24시간 형식의 시간"
   ]
  },
  {
   "cell_type": "code",
   "execution_count": 32,
   "metadata": {},
   "outputs": [
    {
     "name": "stdout",
     "output_type": "stream",
     "text": [
      "현재 시간 (24시간 형식): 17:44:46\n"
     ]
    }
   ],
   "source": [
    "formatted_time_24hr = now.strftime(\"%H:%M:%S\")\n",
    "print(\"현재 시간 (24시간 형식):\", formatted_time_24hr)"
   ]
  },
  {
   "cell_type": "markdown",
   "metadata": {},
   "source": [
    "#### 2-1-4. 예시 4: 요일, 월, 일, 연도 포맷"
   ]
  },
  {
   "cell_type": "code",
   "execution_count": 33,
   "metadata": {},
   "outputs": [
    {
     "name": "stdout",
     "output_type": "stream",
     "text": [
      "현재 날짜 (요일, 월 일, 연도): Friday, March 01, 2024\n"
     ]
    }
   ],
   "source": [
    "formatted_full_date = now.strftime(\"%A, %B %d, %Y\")\n",
    "print(\"현재 날짜 (요일, 월 일, 연도):\", formatted_full_date)"
   ]
  },
  {
   "cell_type": "code",
   "execution_count": 43,
   "metadata": {},
   "outputs": [
    {
     "name": "stdout",
     "output_type": "stream",
     "text": [
      "현재 날짜 (요일, 월 일, 연도): Friday, March 01, 2024\n"
     ]
    }
   ],
   "source": [
    "formatted_full_date = dt.strftime(\"%A, %B %d, %Y\")\n",
    "print(\"현재 날짜 (요일, 월 일, 연도):\", formatted_full_date)"
   ]
  },
  {
   "cell_type": "markdown",
   "metadata": {},
   "source": [
    "#### 2-1-5. 예시 5: ISO 8601 형식의 날짜와 시간"
   ]
  },
  {
   "cell_type": "code",
   "execution_count": 34,
   "metadata": {},
   "outputs": [
    {
     "name": "stdout",
     "output_type": "stream",
     "text": [
      "현재 날짜와 시간 (ISO 8601 형식): 2024-03-01T17:44:46\n"
     ]
    }
   ],
   "source": [
    "formatted_iso8601 = now.strftime(\"%Y-%m-%dT%H:%M:%S\")\n",
    "print(\"현재 날짜와 시간 (ISO 8601 형식):\", formatted_iso8601)"
   ]
  },
  {
   "cell_type": "code",
   "execution_count": 44,
   "metadata": {},
   "outputs": [
    {
     "name": "stdout",
     "output_type": "stream",
     "text": [
      "현재 날짜와 시간 (ISO 8601 형식): 2024-03-01T00:00:00\n"
     ]
    }
   ],
   "source": [
    "formatted_iso8601 = dt.strftime(\"%Y-%m-%dT%H:%M:%S\")\n",
    "print(\"현재 날짜와 시간 (ISO 8601 형식):\", formatted_iso8601)"
   ]
  },
  {
   "cell_type": "markdown",
   "metadata": {},
   "source": [
    "### 2-2. strptime 메서드 사용하기\n",
    "datetime 모듈의 strptime() 메서드를 사용하여 문자열을 datetime 객체로 변환 가능합니다.\n",
    "#### 2-2-1. 예시 1: \"연-월-일\" 포맷"
   ]
  },
  {
   "cell_type": "code",
   "execution_count": 45,
   "metadata": {},
   "outputs": [
    {
     "name": "stdout",
     "output_type": "stream",
     "text": [
      "예시 1: 2023-01-25 00:00:00\n"
     ]
    }
   ],
   "source": [
    "date_str1 = \"2023-01-25\"\n",
    "date_obj1 = datetime.strptime(date_str1, \"%Y-%m-%d\")\n",
    "print(\"예시 1:\", date_obj1)"
   ]
  },
  {
   "cell_type": "code",
   "execution_count": 47,
   "metadata": {},
   "outputs": [
    {
     "ename": "AttributeError",
     "evalue": "type object 'datetime.date' has no attribute 'strptime'",
     "output_type": "error",
     "traceback": [
      "\u001b[0;31m---------------------------------------------------------------------------\u001b[0m",
      "\u001b[0;31mAttributeError\u001b[0m                            Traceback (most recent call last)",
      "Cell \u001b[0;32mIn[47], line 2\u001b[0m\n\u001b[1;32m      1\u001b[0m \u001b[38;5;66;03m# date 모듈에는 strptime 메서드가 없음\u001b[39;00m\n\u001b[0;32m----> 2\u001b[0m date_obj1 \u001b[38;5;241m=\u001b[39m \u001b[43mdate\u001b[49m\u001b[38;5;241;43m.\u001b[39;49m\u001b[43mstrptime\u001b[49m(date_str1, \u001b[38;5;124m\"\u001b[39m\u001b[38;5;124m%\u001b[39m\u001b[38;5;124mY-\u001b[39m\u001b[38;5;124m%\u001b[39m\u001b[38;5;124mm-\u001b[39m\u001b[38;5;132;01m%d\u001b[39;00m\u001b[38;5;124m\"\u001b[39m)\n\u001b[1;32m      3\u001b[0m \u001b[38;5;28mprint\u001b[39m(\u001b[38;5;124m\"\u001b[39m\u001b[38;5;124m예시 1:\u001b[39m\u001b[38;5;124m\"\u001b[39m, date_obj1)\n",
      "\u001b[0;31mAttributeError\u001b[0m: type object 'datetime.date' has no attribute 'strptime'"
     ]
    }
   ],
   "source": [
    "# date 모듈에는 strptime 메서드가 없음\n",
    "date_obj1 = date.strptime(date_str1, \"%Y-%m-%d\")\n",
    "print(\"예시 1:\", date_obj1)"
   ]
  },
  {
   "cell_type": "code",
   "execution_count": 49,
   "metadata": {},
   "outputs": [
    {
     "name": "stdout",
     "output_type": "stream",
     "text": [
      "예시 1: 2023-01-25\n"
     ]
    }
   ],
   "source": [
    "# date 객체를 얻고자 하는 경우 date() 메서드를 사용\n",
    "date_obj1 = datetime.strptime(date_str1, \"%Y-%m-%d\").date()\n",
    "print(\"예시 1:\", date_obj1)"
   ]
  },
  {
   "cell_type": "markdown",
   "metadata": {},
   "source": [
    "#### 2-2-2. 예시 2: \"월/일/연 시:분\" 포맷"
   ]
  },
  {
   "cell_type": "code",
   "execution_count": 50,
   "metadata": {},
   "outputs": [
    {
     "name": "stdout",
     "output_type": "stream",
     "text": [
      "예시 2: 2023-01-25 14:30:00\n"
     ]
    }
   ],
   "source": [
    "date_str2 = \"01/25/2023 14:30\"\n",
    "date_obj2 = datetime.strptime(date_str2, \"%m/%d/%Y %H:%M\")\n",
    "print(\"예시 2:\", date_obj2)"
   ]
  },
  {
   "cell_type": "markdown",
   "metadata": {},
   "source": [
    "#### 2-2-3. 예시 3: \"일-월-연 시간(12시간) AM/PM\" 포맷"
   ]
  },
  {
   "cell_type": "code",
   "execution_count": 51,
   "metadata": {},
   "outputs": [
    {
     "name": "stdout",
     "output_type": "stream",
     "text": [
      "예시 3: 2023-01-25 14:30:00\n"
     ]
    }
   ],
   "source": [
    "date_str3 = \"25-Jan-2023 2:30 PM\"\n",
    "date_obj3 = datetime.strptime(date_str3, \"%d-%b-%Y %I:%M %p\")\n",
    "print(\"예시 3:\", date_obj3)"
   ]
  },
  {
   "cell_type": "markdown",
   "metadata": {},
   "source": [
    "#### 2-2-4. 예시 4: \"연도월일시분초\" 포맷"
   ]
  },
  {
   "cell_type": "code",
   "execution_count": 52,
   "metadata": {},
   "outputs": [
    {
     "name": "stdout",
     "output_type": "stream",
     "text": [
      "예시 4: 2023-01-25 14:30:00\n"
     ]
    }
   ],
   "source": [
    "date_str4 = \"20230125143000\"\n",
    "date_obj4 = datetime.strptime(date_str4, \"%Y%m%d%H%M%S\")\n",
    "print(\"예시 4:\", date_obj4)"
   ]
  },
  {
   "cell_type": "markdown",
   "metadata": {},
   "source": [
    "#### 2-2-5. 예시 5: \"요일, 일 월 연도 시:분:초\" 포맷"
   ]
  },
  {
   "cell_type": "code",
   "execution_count": 53,
   "metadata": {},
   "outputs": [
    {
     "name": "stdout",
     "output_type": "stream",
     "text": [
      "예시 5: 2023-01-25 14:30:00\n"
     ]
    }
   ],
   "source": [
    "date_str5 = \"Wednesday, 25 Jan 2023 14:30:00\"\n",
    "date_obj5 = datetime.strptime(date_str5, \"%A, %d %b %Y %H:%M:%S\")\n",
    "print(\"예시 5:\", date_obj5)"
   ]
  },
  {
   "cell_type": "markdown",
   "metadata": {},
   "source": [
    "### 2-3. datetime 포맷 규칙\n",
    "* %Y: 4자리 연도\n",
    "* %y: 2자리 연도\n",
    "* %m: 0으로 채워진 2자리 월\n",
    "* %d: 0으로 채워진 2자리 일\n",
    "* %I: 0으로 채워진 12시간 형식의 시\n",
    "* %H: 0으로 채워진 24시간 형식의 시\n",
    "* %M: 0으로 채워진 2자리 분\n",
    "* %S: 0으로 채워진 2자리 초\n",
    "* %p: AM 또는 PM\n",
    "* %w: 정수로 나타낸 요일[0 (일요일), 6)\n",
    "* %W: 연중 주차['00', '53'](일요일을 한 주의 시작으로 간주)\n",
    "  - 연도의 첫번재 일요일이 속한 주를 첫번째 주('01')로 정의하고, 그 전의 날짜들은 '00'으로 표시\n",
    "* %U: 연중 주차['00', '53'](월요일을 한 주의 시작으로 간주)\n",
    "  - 연도의 첫번재 월요일이 속한 주를 첫번째 주('01')로 정의하고, 그 전의 날짜들은 '00'으로 표시\n",
    "* %a: 축약된 요일 이름\n",
    "* %A: 요일의 전체 이름\n",
    "* %b: 축약된 월 이름\n",
    "* %B: 월의 전체 이름"
   ]
  },
  {
   "cell_type": "markdown",
   "metadata": {},
   "source": [
    "## 3. dateutil.parser 사용하기\n",
    "### 3-1. dateutil.parser 소개\n",
    "dateutil.parser의 parse 메서드는 문자열 형식의 날짜를 자동으로 파싱하여 Python datetime 객체로 변환해주는 도구입니다.\n",
    "\n",
    "이 메서드는 다양한 날짜 및 시간 포맷을 자동으로 인식하고 처리할 수 있어, 특정 포맷을 명시하지 않아도 사용 가능합니다.\n",
    "\n",
    "dateutil을 사용하기 위해서는 dateutil 라이브러리가 설치되어 있어야 합니다. 아나콘다 네비게이터 environments에서 설치 가능합니다."
   ]
  },
  {
   "cell_type": "markdown",
   "metadata": {},
   "source": [
    "### 3-2. 사용방법"
   ]
  },
  {
   "cell_type": "code",
   "execution_count": 79,
   "metadata": {},
   "outputs": [
    {
     "name": "stdout",
     "output_type": "stream",
     "text": [
      "2024-01-01 00:00:00\n",
      "2024-01-01 12:30:00\n",
      "2024-01-01 00:00:00\n",
      "2024-01-01 00:00:00\n",
      "2024-01-01 12:30:00+00:00\n"
     ]
    }
   ],
   "source": [
    "from dateutil.parser import parse\n",
    "\n",
    "# 기본적인 날짜 문자열 파싱\n",
    "dt = parse(\"2024-01-01\")\n",
    "print(dt)\n",
    "\n",
    "# 더 복잡한 날짜와 시간 문자열\n",
    "dt = parse(\"1st of January, 2024 at 12:30 PM\")\n",
    "print(dt)\n",
    "\n",
    "# 일/월/연 포맷 파싱 (dayfirst=True를 사용하여 날짜가 먼저 오는 것을 명시)\n",
    "dt = parse(\"01/01/2024\", dayfirst=True)\n",
    "print(dt)\n",
    "\n",
    "# 연/월/일 포맷 파싱 (yearfirst=True를 사용하여 연도가 먼저 오는 것을 명시)\n",
    "dt = parse(\"2024/01/01\", yearfirst=True)\n",
    "print(dt)\n",
    "\n",
    "# ISO 8601 포맷 파싱\n",
    "dt = parse(\"2024-01-01T12:30:00Z\")\n",
    "print(dt)"
   ]
  },
  {
   "cell_type": "code",
   "execution_count": null,
   "metadata": {},
   "outputs": [],
   "source": []
  }
 ],
 "metadata": {
  "kernelspec": {
   "display_name": "fastcampus",
   "language": "python",
   "name": "python3"
  },
  "language_info": {
   "codemirror_mode": {
    "name": "ipython",
    "version": 3
   },
   "file_extension": ".py",
   "mimetype": "text/x-python",
   "name": "python",
   "nbconvert_exporter": "python",
   "pygments_lexer": "ipython3",
   "version": "3.11.7"
  }
 },
 "nbformat": 4,
 "nbformat_minor": 2
}

{
 "cells": [
  {
   "cell_type": "markdown",
   "metadata": {},
   "source": [
    "# [ 6-2. pandas에서 시계열 데이터 다루기 ]"
   ]
  },
  {
   "cell_type": "markdown",
   "metadata": {},
   "source": [
    "## 1. to_datetime 메서드 사용하기\n",
    "Pandas의 to_datetime 메서드를 이용하면 다양한 형태의 날짜와 시간 표현을 'datetime' 타입으로 변환할 수 있습니다. 이 메서드를 사용하면 문자열, 숫자, 리스트, Series, DataFrame 컬럼 등 다양한 입력을 처리할 수 있으며, 매우 유연하게 날짜와 시간 데이터를 처리할 수 있습니다."
   ]
  },
  {
   "cell_type": "markdown",
   "metadata": {},
   "source": [
    "### 1-1. 기본 사용 방법"
   ]
  },
  {
   "cell_type": "code",
   "execution_count": 1,
   "metadata": {},
   "outputs": [
    {
     "name": "stdout",
     "output_type": "stream",
     "text": [
      "2023-01-01 00:00:00\n"
     ]
    }
   ],
   "source": [
    "import pandas as pd\n",
    "\n",
    "# 문자열을 datetime으로 변환\n",
    "date_str = \"2023-01-01\"\n",
    "date_dt = pd.to_datetime(date_str)\n",
    "print(date_dt)"
   ]
  },
  {
   "cell_type": "markdown",
   "metadata": {},
   "source": [
    "### 1-2. 리스트나 Series의 날짜 문자열 변환"
   ]
  },
  {
   "cell_type": "code",
   "execution_count": 2,
   "metadata": {},
   "outputs": [
    {
     "name": "stdout",
     "output_type": "stream",
     "text": [
      "DatetimeIndex(['2023-01-01', '2023-01-02', '2023-01-03'], dtype='datetime64[ns]', freq=None)\n",
      "0   2023-01-01\n",
      "1   2023-01-02\n",
      "2   2023-01-03\n",
      "dtype: datetime64[ns]\n"
     ]
    }
   ],
   "source": [
    "# 리스트의 날짜 문자열을 datetime으로 변환\n",
    "date_list = [\"2023-01-01\", \"2023-01-02\", \"2023-01-03\"]\n",
    "date_dt_list = pd.to_datetime(date_list)\n",
    "print(date_dt_list)\n",
    "\n",
    "# Series의 날짜 문자열을 datetime으로 변환\n",
    "date_series = pd.Series([\"2023-01-01\", \"2023-01-02\", \"2023-01-03\"])\n",
    "date_dt_series = pd.to_datetime(date_series)\n",
    "print(date_dt_series)"
   ]
  },
  {
   "cell_type": "markdown",
   "metadata": {},
   "source": [
    "### 1-3. 포맷 지정하기\n",
    "format 인자를 사용하면, 입력 데이터의 날짜 포맷을 명시적으로 지정할 수 있습니다. 이는 파싱 속도를 향상시키고, 애매한 날짜 포맷의 해석을 명확하게 합니다."
   ]
  },
  {
   "cell_type": "code",
   "execution_count": 3,
   "metadata": {},
   "outputs": [
    {
     "name": "stdout",
     "output_type": "stream",
     "text": [
      "2023-02-01 00:00:00\n"
     ]
    }
   ],
   "source": [
    "# 포맷 지정하여 날짜 문자열 변환\n",
    "date_str_format = \"01-02-2023\"\n",
    "date_dt_format = pd.to_datetime(date_str_format, format=\"%d-%m-%Y\")\n",
    "print(date_dt_format)"
   ]
  },
  {
   "cell_type": "markdown",
   "metadata": {},
   "source": [
    "### 1-4. NaT(Not a Time) 객체\n",
    "errors 인자를 설정해주면 날짜 파싱 시 잘못된 데이터를 어떻게 처리할지 결정할 수 있습니다.\n",
    "* 'raise'(기본값) : 잘못된 데이터가 있으면 오류를 발생시킵니다.\n",
    "\n",
    "* 'coerce' : 날짜 파싱시 잘못된 데이터는 NaT(Not a Time) 객체로 변환합니다. 이 옵션은 유효하지 않은 날짜 데이터가 있을 수 있지만, 오류를 발생시키지 않고 계속 진행하길 원할 때 유용합니다.\n",
    "\n",
    "* 'ignore' : 변환 과정에서 오류가 발생하더라도 무시하고 원본 데이터를 그대로 반환합니다."
   ]
  },
  {
   "cell_type": "code",
   "execution_count": 11,
   "metadata": {},
   "outputs": [
    {
     "name": "stdout",
     "output_type": "stream",
     "text": [
      "NaT\n"
     ]
    }
   ],
   "source": [
    "# 문자열을 datetime으로 변환\n",
    "date_str = \"2023-02-30\"\n",
    "date_dt = pd.to_datetime(date_str, errors='coerce')\n",
    "print(date_dt)"
   ]
  },
  {
   "cell_type": "code",
   "execution_count": 9,
   "metadata": {},
   "outputs": [
    {
     "name": "stdout",
     "output_type": "stream",
     "text": [
      "DatetimeIndex(['2023-01-31', 'NaT', '2023-03-31'], dtype='datetime64[ns]', freq=None)\n",
      "0   2023-01-31\n",
      "1          NaT\n",
      "2   2023-03-31\n",
      "dtype: datetime64[ns]\n"
     ]
    }
   ],
   "source": [
    "# 리스트의 날짜 문자열을 datetime으로 변환\n",
    "date_list = [\"2023-01-31\", \"2023-02-31\", \"2023-03-31\"]\n",
    "date_dt_list = pd.to_datetime(date_list, errors='coerce')\n",
    "print(date_dt_list)\n",
    "\n",
    "# Series의 날짜 문자열을 datetime으로 변환\n",
    "date_series = pd.Series([\"2023-01-31\", \"2023-02-31\", \"2023-03-31\"])\n",
    "date_dt_series = pd.to_datetime(date_series, errors='coerce')\n",
    "print(date_dt_series)"
   ]
  },
  {
   "cell_type": "markdown",
   "metadata": {},
   "source": [
    "### 1-5. pandas의 isnull() 메서드를 사용하여 NaT 여부 구분"
   ]
  },
  {
   "cell_type": "code",
   "execution_count": 15,
   "metadata": {},
   "outputs": [
    {
     "name": "stdout",
     "output_type": "stream",
     "text": [
      "[False  True False]\n"
     ]
    }
   ],
   "source": [
    "print(pd.isnull(date_dt_list))"
   ]
  },
  {
   "cell_type": "code",
   "execution_count": 16,
   "metadata": {},
   "outputs": [
    {
     "name": "stdout",
     "output_type": "stream",
     "text": [
      "[ True False  True]\n"
     ]
    }
   ],
   "source": [
    "print(pd.notnull(date_dt_list))"
   ]
  },
  {
   "cell_type": "code",
   "execution_count": 12,
   "metadata": {},
   "outputs": [
    {
     "name": "stdout",
     "output_type": "stream",
     "text": [
      "0    False\n",
      "1     True\n",
      "2    False\n",
      "dtype: bool\n"
     ]
    }
   ],
   "source": [
    "print(pd.isnull(date_dt_series))"
   ]
  },
  {
   "cell_type": "code",
   "execution_count": 17,
   "metadata": {},
   "outputs": [
    {
     "name": "stdout",
     "output_type": "stream",
     "text": [
      "0     True\n",
      "1    False\n",
      "2     True\n",
      "dtype: bool\n"
     ]
    }
   ],
   "source": [
    "print(pd.notnull(date_dt_series))"
   ]
  },
  {
   "cell_type": "markdown",
   "metadata": {},
   "source": [
    "## 2. Series를 이용하여 시계열 데이터 다루기\n",
    "### 2-1. 시계열 데이터 생성"
   ]
  },
  {
   "cell_type": "code",
   "execution_count": 18,
   "metadata": {},
   "outputs": [
    {
     "name": "stdout",
     "output_type": "stream",
     "text": [
      "2023-01-01   -0.820825\n",
      "2023-01-02   -0.365697\n",
      "2023-01-03    0.194736\n",
      "2023-01-04    0.225659\n",
      "2023-01-05    0.589641\n",
      "2023-01-06    0.827012\n",
      "Freq: D, dtype: float64\n"
     ]
    }
   ],
   "source": [
    "import pandas as pd\n",
    "import numpy as np\n",
    "\n",
    "# 날짜 범위 생성\n",
    "dates = pd.date_range('20230101', periods=6)\n",
    "\n",
    "# 시계열 데이터를 포함하는 Series 생성\n",
    "ts = pd.Series(np.random.randn(6), index=dates)\n",
    "\n",
    "print(ts)"
   ]
  },
  {
   "cell_type": "markdown",
   "metadata": {},
   "source": [
    "### 2-2. pandas date_range 메서드 사용하기\n",
    "pandas의 date_range 메서드는 특정 기간 동안의 날짜/시간 인덱스를 생성하는데 사용됩니다. 이 메서드는 정해진 빈도에 따라 연속적인 DatetimeIndex를 생성할 수 있습니다.\n",
    "#### 2-2-1. 기본 사용법"
   ]
  },
  {
   "cell_type": "code",
   "execution_count": null,
   "metadata": {},
   "outputs": [],
   "source": [
    "pd.date_range(\n",
    "    start=None, end=None, periods=None, freq='D', \n",
    "    tz=None, normalize=False, name=None, closed=None\n",
    ")"
   ]
  },
  {
   "cell_type": "markdown",
   "metadata": {},
   "source": [
    "* start: 범위의 시작 날짜/시간입니다.\n",
    "\n",
    "* end: 범위의 종료 날짜/시간입니다.\n",
    "\n",
    "* periods: 생성할 기간의 총 개수입니다. start와 end가 주어지면, periods는 선택적입니다.\n",
    "\n",
    "* freq: 날짜/시간의 빈도를 지정합니다. 기본값은 'D'(일)입니다. 예를 들어, 'M'은 월말, 'H'는 시간 등을 의미합니다.\n",
    "\n",
    "* tz: 시간대(timezone)입니다.\n",
    "\n",
    "* normalize: True로 설정하면, 시작/종료 날짜를 자정으로 정규화합니다.\n",
    "\n",
    "* name: 생성된 DatetimeIndex의 이름입니다.\n",
    "\n",
    "* closed: 범위의 어느 쪽을 포함하지 않을지 지정합니다. 'left'는 시작 날짜를 포함, 'right'는 종료 날짜를 포함하지 않습니다."
   ]
  },
  {
   "cell_type": "markdown",
   "metadata": {},
   "source": [
    "#### 2-2-2. 사용 예시\n",
    "##### 2-2-2-1. 기본적인 날짜 범위 생성"
   ]
  },
  {
   "cell_type": "code",
   "execution_count": 26,
   "metadata": {},
   "outputs": [
    {
     "name": "stdout",
     "output_type": "stream",
     "text": [
      "DatetimeIndex(['2023-01-01', '2023-01-02', '2023-01-03', '2023-01-04',\n",
      "               '2023-01-05', '2023-01-06', '2023-01-07', '2023-01-08',\n",
      "               '2023-01-09', '2023-01-10'],\n",
      "              dtype='datetime64[ns]', freq='D')\n"
     ]
    }
   ],
   "source": [
    "rng = pd.date_range(start='2023-01-01', end='2023-01-10')\n",
    "print(rng)"
   ]
  },
  {
   "cell_type": "markdown",
   "metadata": {},
   "source": [
    "##### 2-2-2-2. 주별 날짜 생성\n",
    "* 2023년 1월 1일부터 시작하는 주별(일요일) 날짜 5개 생성"
   ]
  },
  {
   "cell_type": "code",
   "execution_count": 27,
   "metadata": {},
   "outputs": [
    {
     "name": "stdout",
     "output_type": "stream",
     "text": [
      "DatetimeIndex(['2023-01-01', '2023-01-08', '2023-01-15', '2023-01-22',\n",
      "               '2023-01-29'],\n",
      "              dtype='datetime64[ns]', freq='W-SUN')\n"
     ]
    }
   ],
   "source": [
    "weekly_rng = pd.date_range(start='2023-01-01', periods=5, freq='W')\n",
    "print(weekly_rng)"
   ]
  },
  {
   "cell_type": "markdown",
   "metadata": {},
   "source": [
    "##### 2-2-2-3. 시간 단위 범위 생성\n",
    "* 2023년 1월 1일 00:00부터 시작하는 10시간 동안의 시간대를 시간 단위로 생성합니다."
   ]
  },
  {
   "cell_type": "code",
   "execution_count": 28,
   "metadata": {},
   "outputs": [
    {
     "name": "stdout",
     "output_type": "stream",
     "text": [
      "DatetimeIndex(['2023-01-01 00:00:00', '2023-01-01 01:00:00',\n",
      "               '2023-01-01 02:00:00', '2023-01-01 03:00:00',\n",
      "               '2023-01-01 04:00:00', '2023-01-01 05:00:00',\n",
      "               '2023-01-01 06:00:00', '2023-01-01 07:00:00',\n",
      "               '2023-01-01 08:00:00', '2023-01-01 09:00:00'],\n",
      "              dtype='datetime64[ns]', freq='H')\n"
     ]
    }
   ],
   "source": [
    "hourly_rng = pd.date_range(start='2023-01-01', periods=10, freq='H')\n",
    "print(hourly_rng)"
   ]
  },
  {
   "cell_type": "markdown",
   "metadata": {},
   "source": [
    "### 2-3. 시계열 데이터 접근 및 슬라이싱"
   ]
  },
  {
   "cell_type": "code",
   "execution_count": 19,
   "metadata": {},
   "outputs": [
    {
     "name": "stdout",
     "output_type": "stream",
     "text": [
      "0.19473562795357632\n",
      "2023-01-02   -0.365697\n",
      "2023-01-03    0.194736\n",
      "2023-01-04    0.225659\n",
      "2023-01-05    0.589641\n",
      "Freq: D, dtype: float64\n"
     ]
    }
   ],
   "source": [
    "# 특정 날짜 데이터에 접근\n",
    "print(ts['2023-01-03'])\n",
    "\n",
    "# 날짜 범위를 사용하여 데이터 슬라이싱\n",
    "print(ts['2023-01-02':'2023-01-05'])"
   ]
  },
  {
   "cell_type": "markdown",
   "metadata": {},
   "source": [
    "### 2-4. 시계열 데이터 리샘플링\n",
    "시계열 데이터 리샘플링은 데이터의 시간 간격을 변경하는 과정입니다. 예를 들어, 일별 데이터를 월별 데이터로 집계하거나, 반대로 월별 데이터를 일별 데이터로 세분화 할 수 있습니다.\n",
    "\n",
    "Pandas의 resample() 메서드를 사용하여 이러한 리샘플링을 할 수 있습니다.\n",
    "\n",
    "* 시간간격 지정 : 'D'는 일, 'W'는 주, 'M'은 월 등\n",
    "\n",
    "* 집계 함수 : 'mean()', 'sum()', 'max()'\n",
    "\n",
    "#### 2-4-1. 일별 데이터를 월별 데이터로 집계(다운샘플링)\n",
    "아래 예시에서는 pd.date_range를 사용하여 2023년 1월 1일부터 시작하는 90일간의 일별 시계열 데이터를 생성합니다.\n",
    "\n",
    "그런 다음 resample('M') 메서드를 사용하여 이 데이터를 월별로 그룹화하고, .mean() 메서드를 적용하여 각 월의 평균 값을 계산합니다."
   ]
  },
  {
   "cell_type": "code",
   "execution_count": 22,
   "metadata": {},
   "outputs": [
    {
     "name": "stdout",
     "output_type": "stream",
     "text": [
      "Original Series:\n",
      "2023-01-01    0.824131\n",
      "2023-01-02    0.600765\n",
      "2023-01-03    0.732770\n",
      "2023-01-04    0.276007\n",
      "2023-01-05    0.017577\n",
      "Freq: D, dtype: float64\n",
      "\n",
      "Monthly Resampled Series:\n",
      "2023-01-31    0.503518\n",
      "2023-02-28    0.530652\n",
      "2023-03-31    0.503542\n",
      "Freq: M, dtype: float64\n"
     ]
    }
   ],
   "source": [
    "import pandas as pd\n",
    "import numpy as np\n",
    "\n",
    "# 샘플 시계열 데이터 생성 (일별)\n",
    "rng = pd.date_range('2023-01-01', periods=90, freq='D')\n",
    "ts = pd.Series(np.random.rand(len(rng)), index=rng)\n",
    "\n",
    "print(\"Original Series:\")\n",
    "print(ts.head())\n",
    "\n",
    "# 일별 데이터를 월별 평균 데이터로 재샘플링\n",
    "monthly_resampled_data = ts.resample('M').mean()\n",
    "\n",
    "print(\"\\nMonthly Resampled Series:\")\n",
    "print(monthly_resampled_data)"
   ]
  },
  {
   "cell_type": "markdown",
   "metadata": {},
   "source": [
    "#### 2-4-2. 월별 데이터를 일별 데이터로 세분화(업샘플링)\n",
    "업샘플링은 낮은 빈도의 데이터(예: 월별 데이터)를 높은 빈도의 데이터(예: 일별 데이터)로 변경하는 과정입니다. 업샘플링 시에는 추가되는 데이터 포인트에 값을 어떻게 할당할지 결정해야 합니다. 아래 예시에서는 업샘플링 후 결측치를 전/후의 값으로 채우는 방법을 보여줍니다."
   ]
  },
  {
   "cell_type": "code",
   "execution_count": 23,
   "metadata": {},
   "outputs": [
    {
     "name": "stdout",
     "output_type": "stream",
     "text": [
      "Original Monthly Series:\n",
      "2023-01-31    1\n",
      "2023-02-28    2\n",
      "2023-03-31    3\n",
      "Freq: M, dtype: int64\n",
      "\n",
      "Daily Resampled Series (Forward Fill):\n",
      "2023-01-31    1\n",
      "2023-02-01    1\n",
      "2023-02-02    1\n",
      "2023-02-03    1\n",
      "2023-02-04    1\n",
      "2023-02-05    1\n",
      "2023-02-06    1\n",
      "2023-02-07    1\n",
      "2023-02-08    1\n",
      "2023-02-09    1\n",
      "Freq: D, dtype: int64\n"
     ]
    }
   ],
   "source": [
    "# 월별 샘플 데이터 생성\n",
    "rng = pd.date_range('2023-01', periods=3, freq='M')\n",
    "ts_monthly = pd.Series([1, 2, 3], index=rng)\n",
    "\n",
    "print(\"Original Monthly Series:\")\n",
    "print(ts_monthly)\n",
    "\n",
    "# 월별 데이터를 일별 데이터로 업샘플링\n",
    "daily_resampled_data = ts_monthly.resample('D').ffill()  \n",
    "    # 앞의 값으로 채우기\n",
    "\n",
    "print(\"\\nDaily Resampled Series (Forward Fill):\")\n",
    "print(daily_resampled_data.head(10))"
   ]
  },
  {
   "cell_type": "markdown",
   "metadata": {},
   "source": [
    "* .ffill() 메서드 : 결측치를 앞의 값으로 채워 넣음\n",
    "* .bfill() 메서드 : 결측치를 뒤의 값으로 채워 넣음"
   ]
  },
  {
   "cell_type": "code",
   "execution_count": 24,
   "metadata": {},
   "outputs": [
    {
     "name": "stdout",
     "output_type": "stream",
     "text": [
      "\n",
      "Daily Resampled Series (Backword Fill):\n",
      "2023-01-31    1\n",
      "2023-02-01    2\n",
      "2023-02-02    2\n",
      "2023-02-03    2\n",
      "2023-02-04    2\n",
      "2023-02-05    2\n",
      "2023-02-06    2\n",
      "2023-02-07    2\n",
      "2023-02-08    2\n",
      "2023-02-09    2\n",
      "Freq: D, dtype: int64\n"
     ]
    }
   ],
   "source": [
    "# 월별 데이터를 일별 데이터로 업샘플링\n",
    "daily_resampled_data = ts_monthly.resample('D').bfill()  \n",
    "    # 뒤의 값으로 채우기\n",
    "\n",
    "print(\"\\nDaily Resampled Series (Backword Fill):\")\n",
    "print(daily_resampled_data.head(10))"
   ]
  },
  {
   "cell_type": "markdown",
   "metadata": {},
   "source": [
    "## 3. DataFrame을 사용하여 시계열 데이터 다루기\n",
    "### 3-1. 시계열 데이터 생성"
   ]
  },
  {
   "cell_type": "code",
   "execution_count": 12,
   "metadata": {},
   "outputs": [
    {
     "name": "stdout",
     "output_type": "stream",
     "text": [
      "                   A         B         C         D\n",
      "2024-01-01  0.442256  0.840202 -2.748394 -0.281501\n",
      "2024-01-02  0.221009  0.105395 -0.593450 -1.477184\n",
      "2024-01-03 -0.664082  0.638588 -0.477096  0.021904\n",
      "2024-01-04 -0.048587 -1.077388  1.428384  1.733441\n",
      "2024-01-05 -2.107881 -0.351309 -0.068426  1.757735\n",
      "2024-01-06 -0.591485 -0.226545 -1.560005  0.997941\n"
     ]
    }
   ],
   "source": [
    "import pandas as pd\n",
    "import numpy as np\n",
    "\n",
    "# 날짜 범위 생성\n",
    "dates = pd.date_range('20240101', periods=6)\n",
    "\n",
    "# 시계열 데이터 생성\n",
    "df = pd.DataFrame(\n",
    "    np.random.randn(6,4), \n",
    "    index=dates, \n",
    "    columns=list('ABCD')\n",
    ")\n",
    "print(df)"
   ]
  },
  {
   "cell_type": "markdown",
   "metadata": {},
   "source": [
    "### 3-2. 시계열 데이터 접근 및 슬라이싱\n",
    "#### 3-2-1. 특정 날짜 데이터에 접근하기"
   ]
  },
  {
   "cell_type": "code",
   "execution_count": 13,
   "metadata": {},
   "outputs": [
    {
     "name": "stdout",
     "output_type": "stream",
     "text": [
      "A   -0.664082\n",
      "B    0.638588\n",
      "C   -0.477096\n",
      "D    0.021904\n",
      "Name: 2024-01-03 00:00:00, dtype: float64\n"
     ]
    }
   ],
   "source": [
    "# 특정 날짜 데이터에 접근\n",
    "print(df.loc['2024-01-03'])"
   ]
  },
  {
   "cell_type": "code",
   "execution_count": 14,
   "metadata": {},
   "outputs": [
    {
     "name": "stdout",
     "output_type": "stream",
     "text": [
      "A   -0.664082\n",
      "B    0.638588\n",
      "C   -0.477096\n",
      "D    0.021904\n",
      "Name: 2024-01-03 00:00:00, dtype: float64\n"
     ]
    }
   ],
   "source": [
    "from datetime import datetime, date\n",
    "print(df.loc[datetime(2024, 1, 3)])"
   ]
  },
  {
   "cell_type": "code",
   "execution_count": 15,
   "metadata": {},
   "outputs": [
    {
     "name": "stdout",
     "output_type": "stream",
     "text": [
      "-0.6640816995939576\n"
     ]
    }
   ],
   "source": [
    "# 특정 날짜 데이터에 접근\n",
    "print(df.loc['2024-01-03', 'A'])"
   ]
  },
  {
   "cell_type": "markdown",
   "metadata": {},
   "source": [
    "#### 3-2-2. 날짜 범위를 사용하여 데이터 슬라이싱 하기"
   ]
  },
  {
   "cell_type": "code",
   "execution_count": 16,
   "metadata": {},
   "outputs": [
    {
     "name": "stdout",
     "output_type": "stream",
     "text": [
      "                   A         B         C         D\n",
      "2024-01-02  0.221009  0.105395 -0.593450 -1.477184\n",
      "2024-01-03 -0.664082  0.638588 -0.477096  0.021904\n",
      "2024-01-04 -0.048587 -1.077388  1.428384  1.733441\n",
      "2024-01-05 -2.107881 -0.351309 -0.068426  1.757735\n"
     ]
    }
   ],
   "source": [
    "# 날짜 범위를 사용하여 데이터 슬라이싱\n",
    "print(df['2024-01-02':'2024-01-05'])"
   ]
  },
  {
   "cell_type": "code",
   "execution_count": 17,
   "metadata": {},
   "outputs": [
    {
     "name": "stdout",
     "output_type": "stream",
     "text": [
      "                   A         B         C         D\n",
      "2024-01-02  0.221009  0.105395 -0.593450 -1.477184\n",
      "2024-01-03 -0.664082  0.638588 -0.477096  0.021904\n",
      "2024-01-04 -0.048587 -1.077388  1.428384  1.733441\n",
      "2024-01-05 -2.107881 -0.351309 -0.068426  1.757735\n"
     ]
    }
   ],
   "source": [
    "print(df.loc['2024-01-02':'2024-01-05'])"
   ]
  },
  {
   "cell_type": "code",
   "execution_count": 18,
   "metadata": {},
   "outputs": [
    {
     "name": "stdout",
     "output_type": "stream",
     "text": [
      "                   A         B         C         D\n",
      "2024-01-02  0.221009  0.105395 -0.593450 -1.477184\n",
      "2024-01-03 -0.664082  0.638588 -0.477096  0.021904\n",
      "2024-01-04 -0.048587 -1.077388  1.428384  1.733441\n",
      "2024-01-05 -2.107881 -0.351309 -0.068426  1.757735\n"
     ]
    }
   ],
   "source": [
    "print(df.loc[datetime(2024, 1, 2):datetime(2024, 1, 5)])"
   ]
  },
  {
   "cell_type": "code",
   "execution_count": 19,
   "metadata": {},
   "outputs": [
    {
     "name": "stdout",
     "output_type": "stream",
     "text": [
      "                   A         B         C         D\n",
      "2024-01-02  0.221009  0.105395 -0.593450 -1.477184\n",
      "2024-01-03 -0.664082  0.638588 -0.477096  0.021904\n",
      "2024-01-04 -0.048587 -1.077388  1.428384  1.733441\n",
      "2024-01-05 -2.107881 -0.351309 -0.068426  1.757735\n"
     ]
    }
   ],
   "source": [
    "print(df.loc[date(2024, 1, 2):date(2024, 1, 5)])"
   ]
  },
  {
   "cell_type": "code",
   "execution_count": 20,
   "metadata": {},
   "outputs": [
    {
     "name": "stdout",
     "output_type": "stream",
     "text": [
      "2024-01-02    0.105395\n",
      "2024-01-03    0.638588\n",
      "2024-01-04   -1.077388\n",
      "2024-01-05   -0.351309\n",
      "Freq: D, Name: B, dtype: float64\n"
     ]
    }
   ],
   "source": [
    "print(df.loc['2024-01-02':'2024-01-05', 'B'])"
   ]
  },
  {
   "cell_type": "markdown",
   "metadata": {},
   "source": [
    "#### 3-2-3. 년, 월 값으로 데이터 구간 선택하기"
   ]
  },
  {
   "cell_type": "code",
   "execution_count": 21,
   "metadata": {},
   "outputs": [
    {
     "data": {
      "text/html": [
       "<div>\n",
       "<style scoped>\n",
       "    .dataframe tbody tr th:only-of-type {\n",
       "        vertical-align: middle;\n",
       "    }\n",
       "\n",
       "    .dataframe tbody tr th {\n",
       "        vertical-align: top;\n",
       "    }\n",
       "\n",
       "    .dataframe thead th {\n",
       "        text-align: right;\n",
       "    }\n",
       "</style>\n",
       "<table border=\"1\" class=\"dataframe\">\n",
       "  <thead>\n",
       "    <tr style=\"text-align: right;\">\n",
       "      <th></th>\n",
       "      <th>A</th>\n",
       "      <th>B</th>\n",
       "      <th>C</th>\n",
       "      <th>D</th>\n",
       "    </tr>\n",
       "  </thead>\n",
       "  <tbody>\n",
       "    <tr>\n",
       "      <th>2024-01-01</th>\n",
       "      <td>0.442256</td>\n",
       "      <td>0.840202</td>\n",
       "      <td>-2.748394</td>\n",
       "      <td>-0.281501</td>\n",
       "    </tr>\n",
       "    <tr>\n",
       "      <th>2024-01-02</th>\n",
       "      <td>0.221009</td>\n",
       "      <td>0.105395</td>\n",
       "      <td>-0.593450</td>\n",
       "      <td>-1.477184</td>\n",
       "    </tr>\n",
       "    <tr>\n",
       "      <th>2024-01-03</th>\n",
       "      <td>-0.664082</td>\n",
       "      <td>0.638588</td>\n",
       "      <td>-0.477096</td>\n",
       "      <td>0.021904</td>\n",
       "    </tr>\n",
       "    <tr>\n",
       "      <th>2024-01-04</th>\n",
       "      <td>-0.048587</td>\n",
       "      <td>-1.077388</td>\n",
       "      <td>1.428384</td>\n",
       "      <td>1.733441</td>\n",
       "    </tr>\n",
       "    <tr>\n",
       "      <th>2024-01-05</th>\n",
       "      <td>-2.107881</td>\n",
       "      <td>-0.351309</td>\n",
       "      <td>-0.068426</td>\n",
       "      <td>1.757735</td>\n",
       "    </tr>\n",
       "    <tr>\n",
       "      <th>2024-01-06</th>\n",
       "      <td>-0.591485</td>\n",
       "      <td>-0.226545</td>\n",
       "      <td>-1.560005</td>\n",
       "      <td>0.997941</td>\n",
       "    </tr>\n",
       "  </tbody>\n",
       "</table>\n",
       "</div>"
      ],
      "text/plain": [
       "                   A         B         C         D\n",
       "2024-01-01  0.442256  0.840202 -2.748394 -0.281501\n",
       "2024-01-02  0.221009  0.105395 -0.593450 -1.477184\n",
       "2024-01-03 -0.664082  0.638588 -0.477096  0.021904\n",
       "2024-01-04 -0.048587 -1.077388  1.428384  1.733441\n",
       "2024-01-05 -2.107881 -0.351309 -0.068426  1.757735\n",
       "2024-01-06 -0.591485 -0.226545 -1.560005  0.997941"
      ]
     },
     "execution_count": 21,
     "metadata": {},
     "output_type": "execute_result"
    }
   ],
   "source": [
    "df.loc['2024']"
   ]
  },
  {
   "cell_type": "code",
   "execution_count": 22,
   "metadata": {},
   "outputs": [
    {
     "data": {
      "text/html": [
       "<div>\n",
       "<style scoped>\n",
       "    .dataframe tbody tr th:only-of-type {\n",
       "        vertical-align: middle;\n",
       "    }\n",
       "\n",
       "    .dataframe tbody tr th {\n",
       "        vertical-align: top;\n",
       "    }\n",
       "\n",
       "    .dataframe thead th {\n",
       "        text-align: right;\n",
       "    }\n",
       "</style>\n",
       "<table border=\"1\" class=\"dataframe\">\n",
       "  <thead>\n",
       "    <tr style=\"text-align: right;\">\n",
       "      <th></th>\n",
       "      <th>A</th>\n",
       "      <th>B</th>\n",
       "      <th>C</th>\n",
       "      <th>D</th>\n",
       "    </tr>\n",
       "  </thead>\n",
       "  <tbody>\n",
       "    <tr>\n",
       "      <th>2024-01-01</th>\n",
       "      <td>0.442256</td>\n",
       "      <td>0.840202</td>\n",
       "      <td>-2.748394</td>\n",
       "      <td>-0.281501</td>\n",
       "    </tr>\n",
       "    <tr>\n",
       "      <th>2024-01-02</th>\n",
       "      <td>0.221009</td>\n",
       "      <td>0.105395</td>\n",
       "      <td>-0.593450</td>\n",
       "      <td>-1.477184</td>\n",
       "    </tr>\n",
       "    <tr>\n",
       "      <th>2024-01-03</th>\n",
       "      <td>-0.664082</td>\n",
       "      <td>0.638588</td>\n",
       "      <td>-0.477096</td>\n",
       "      <td>0.021904</td>\n",
       "    </tr>\n",
       "    <tr>\n",
       "      <th>2024-01-04</th>\n",
       "      <td>-0.048587</td>\n",
       "      <td>-1.077388</td>\n",
       "      <td>1.428384</td>\n",
       "      <td>1.733441</td>\n",
       "    </tr>\n",
       "    <tr>\n",
       "      <th>2024-01-05</th>\n",
       "      <td>-2.107881</td>\n",
       "      <td>-0.351309</td>\n",
       "      <td>-0.068426</td>\n",
       "      <td>1.757735</td>\n",
       "    </tr>\n",
       "    <tr>\n",
       "      <th>2024-01-06</th>\n",
       "      <td>-0.591485</td>\n",
       "      <td>-0.226545</td>\n",
       "      <td>-1.560005</td>\n",
       "      <td>0.997941</td>\n",
       "    </tr>\n",
       "  </tbody>\n",
       "</table>\n",
       "</div>"
      ],
      "text/plain": [
       "                   A         B         C         D\n",
       "2024-01-01  0.442256  0.840202 -2.748394 -0.281501\n",
       "2024-01-02  0.221009  0.105395 -0.593450 -1.477184\n",
       "2024-01-03 -0.664082  0.638588 -0.477096  0.021904\n",
       "2024-01-04 -0.048587 -1.077388  1.428384  1.733441\n",
       "2024-01-05 -2.107881 -0.351309 -0.068426  1.757735\n",
       "2024-01-06 -0.591485 -0.226545 -1.560005  0.997941"
      ]
     },
     "execution_count": 22,
     "metadata": {},
     "output_type": "execute_result"
    }
   ],
   "source": [
    "df.loc['2024-01-01':'2024-12-31']"
   ]
  },
  {
   "cell_type": "code",
   "execution_count": 23,
   "metadata": {},
   "outputs": [
    {
     "data": {
      "text/html": [
       "<div>\n",
       "<style scoped>\n",
       "    .dataframe tbody tr th:only-of-type {\n",
       "        vertical-align: middle;\n",
       "    }\n",
       "\n",
       "    .dataframe tbody tr th {\n",
       "        vertical-align: top;\n",
       "    }\n",
       "\n",
       "    .dataframe thead th {\n",
       "        text-align: right;\n",
       "    }\n",
       "</style>\n",
       "<table border=\"1\" class=\"dataframe\">\n",
       "  <thead>\n",
       "    <tr style=\"text-align: right;\">\n",
       "      <th></th>\n",
       "      <th>A</th>\n",
       "      <th>B</th>\n",
       "      <th>C</th>\n",
       "      <th>D</th>\n",
       "    </tr>\n",
       "  </thead>\n",
       "  <tbody>\n",
       "    <tr>\n",
       "      <th>2024-01-01</th>\n",
       "      <td>0.442256</td>\n",
       "      <td>0.840202</td>\n",
       "      <td>-2.748394</td>\n",
       "      <td>-0.281501</td>\n",
       "    </tr>\n",
       "    <tr>\n",
       "      <th>2024-01-02</th>\n",
       "      <td>0.221009</td>\n",
       "      <td>0.105395</td>\n",
       "      <td>-0.593450</td>\n",
       "      <td>-1.477184</td>\n",
       "    </tr>\n",
       "    <tr>\n",
       "      <th>2024-01-03</th>\n",
       "      <td>-0.664082</td>\n",
       "      <td>0.638588</td>\n",
       "      <td>-0.477096</td>\n",
       "      <td>0.021904</td>\n",
       "    </tr>\n",
       "    <tr>\n",
       "      <th>2024-01-04</th>\n",
       "      <td>-0.048587</td>\n",
       "      <td>-1.077388</td>\n",
       "      <td>1.428384</td>\n",
       "      <td>1.733441</td>\n",
       "    </tr>\n",
       "    <tr>\n",
       "      <th>2024-01-05</th>\n",
       "      <td>-2.107881</td>\n",
       "      <td>-0.351309</td>\n",
       "      <td>-0.068426</td>\n",
       "      <td>1.757735</td>\n",
       "    </tr>\n",
       "    <tr>\n",
       "      <th>2024-01-06</th>\n",
       "      <td>-0.591485</td>\n",
       "      <td>-0.226545</td>\n",
       "      <td>-1.560005</td>\n",
       "      <td>0.997941</td>\n",
       "    </tr>\n",
       "  </tbody>\n",
       "</table>\n",
       "</div>"
      ],
      "text/plain": [
       "                   A         B         C         D\n",
       "2024-01-01  0.442256  0.840202 -2.748394 -0.281501\n",
       "2024-01-02  0.221009  0.105395 -0.593450 -1.477184\n",
       "2024-01-03 -0.664082  0.638588 -0.477096  0.021904\n",
       "2024-01-04 -0.048587 -1.077388  1.428384  1.733441\n",
       "2024-01-05 -2.107881 -0.351309 -0.068426  1.757735\n",
       "2024-01-06 -0.591485 -0.226545 -1.560005  0.997941"
      ]
     },
     "execution_count": 23,
     "metadata": {},
     "output_type": "execute_result"
    }
   ],
   "source": [
    "df.loc[datetime(2024, 1, 1):datetime(2024, 12, 31)]"
   ]
  },
  {
   "cell_type": "code",
   "execution_count": 31,
   "metadata": {},
   "outputs": [
    {
     "data": {
      "text/html": [
       "<div>\n",
       "<style scoped>\n",
       "    .dataframe tbody tr th:only-of-type {\n",
       "        vertical-align: middle;\n",
       "    }\n",
       "\n",
       "    .dataframe tbody tr th {\n",
       "        vertical-align: top;\n",
       "    }\n",
       "\n",
       "    .dataframe thead th {\n",
       "        text-align: right;\n",
       "    }\n",
       "</style>\n",
       "<table border=\"1\" class=\"dataframe\">\n",
       "  <thead>\n",
       "    <tr style=\"text-align: right;\">\n",
       "      <th></th>\n",
       "      <th>A</th>\n",
       "      <th>B</th>\n",
       "      <th>C</th>\n",
       "      <th>D</th>\n",
       "    </tr>\n",
       "  </thead>\n",
       "  <tbody>\n",
       "    <tr>\n",
       "      <th>2024-02-01</th>\n",
       "      <td>1.040153</td>\n",
       "      <td>-0.596897</td>\n",
       "      <td>0.744032</td>\n",
       "      <td>1.836658</td>\n",
       "    </tr>\n",
       "    <tr>\n",
       "      <th>2024-02-02</th>\n",
       "      <td>0.480826</td>\n",
       "      <td>-0.659185</td>\n",
       "      <td>-1.777104</td>\n",
       "      <td>2.330445</td>\n",
       "    </tr>\n",
       "    <tr>\n",
       "      <th>2024-02-03</th>\n",
       "      <td>-0.015526</td>\n",
       "      <td>0.167444</td>\n",
       "      <td>-0.234536</td>\n",
       "      <td>1.571414</td>\n",
       "    </tr>\n",
       "    <tr>\n",
       "      <th>2024-02-04</th>\n",
       "      <td>0.212111</td>\n",
       "      <td>-0.308131</td>\n",
       "      <td>-0.140812</td>\n",
       "      <td>-0.483106</td>\n",
       "    </tr>\n",
       "    <tr>\n",
       "      <th>2024-02-05</th>\n",
       "      <td>-1.187255</td>\n",
       "      <td>-0.958802</td>\n",
       "      <td>-0.081782</td>\n",
       "      <td>0.944632</td>\n",
       "    </tr>\n",
       "    <tr>\n",
       "      <th>2024-02-06</th>\n",
       "      <td>-0.811901</td>\n",
       "      <td>-0.521189</td>\n",
       "      <td>-0.939116</td>\n",
       "      <td>0.773201</td>\n",
       "    </tr>\n",
       "    <tr>\n",
       "      <th>2024-02-07</th>\n",
       "      <td>-1.672497</td>\n",
       "      <td>-0.114966</td>\n",
       "      <td>0.186058</td>\n",
       "      <td>-0.405962</td>\n",
       "    </tr>\n",
       "    <tr>\n",
       "      <th>2024-02-08</th>\n",
       "      <td>0.281131</td>\n",
       "      <td>-0.494439</td>\n",
       "      <td>1.008714</td>\n",
       "      <td>0.472216</td>\n",
       "    </tr>\n",
       "    <tr>\n",
       "      <th>2024-02-09</th>\n",
       "      <td>0.872690</td>\n",
       "      <td>-0.293247</td>\n",
       "      <td>0.464794</td>\n",
       "      <td>-0.238016</td>\n",
       "    </tr>\n",
       "    <tr>\n",
       "      <th>2024-02-10</th>\n",
       "      <td>0.399919</td>\n",
       "      <td>1.210591</td>\n",
       "      <td>0.985757</td>\n",
       "      <td>1.634846</td>\n",
       "    </tr>\n",
       "    <tr>\n",
       "      <th>2024-02-11</th>\n",
       "      <td>-1.121152</td>\n",
       "      <td>1.981074</td>\n",
       "      <td>-1.171181</td>\n",
       "      <td>1.628939</td>\n",
       "    </tr>\n",
       "    <tr>\n",
       "      <th>2024-02-12</th>\n",
       "      <td>-0.129299</td>\n",
       "      <td>1.951283</td>\n",
       "      <td>0.200646</td>\n",
       "      <td>0.302366</td>\n",
       "    </tr>\n",
       "    <tr>\n",
       "      <th>2024-02-13</th>\n",
       "      <td>0.559432</td>\n",
       "      <td>0.017248</td>\n",
       "      <td>-1.139122</td>\n",
       "      <td>-0.199525</td>\n",
       "    </tr>\n",
       "    <tr>\n",
       "      <th>2024-02-14</th>\n",
       "      <td>0.412815</td>\n",
       "      <td>-0.231760</td>\n",
       "      <td>-1.012570</td>\n",
       "      <td>-2.142317</td>\n",
       "    </tr>\n",
       "    <tr>\n",
       "      <th>2024-02-15</th>\n",
       "      <td>-0.745426</td>\n",
       "      <td>-0.092078</td>\n",
       "      <td>-0.908817</td>\n",
       "      <td>-1.051016</td>\n",
       "    </tr>\n",
       "    <tr>\n",
       "      <th>2024-02-16</th>\n",
       "      <td>-0.288985</td>\n",
       "      <td>0.913531</td>\n",
       "      <td>-0.046659</td>\n",
       "      <td>-1.719816</td>\n",
       "    </tr>\n",
       "    <tr>\n",
       "      <th>2024-02-17</th>\n",
       "      <td>0.331260</td>\n",
       "      <td>-0.159436</td>\n",
       "      <td>1.494319</td>\n",
       "      <td>0.095124</td>\n",
       "    </tr>\n",
       "    <tr>\n",
       "      <th>2024-02-18</th>\n",
       "      <td>0.613599</td>\n",
       "      <td>0.587042</td>\n",
       "      <td>-1.866237</td>\n",
       "      <td>0.074422</td>\n",
       "    </tr>\n",
       "    <tr>\n",
       "      <th>2024-02-19</th>\n",
       "      <td>-1.807323</td>\n",
       "      <td>-1.116650</td>\n",
       "      <td>-0.743106</td>\n",
       "      <td>0.821636</td>\n",
       "    </tr>\n",
       "    <tr>\n",
       "      <th>2024-02-20</th>\n",
       "      <td>0.282888</td>\n",
       "      <td>-0.413918</td>\n",
       "      <td>1.350110</td>\n",
       "      <td>0.161026</td>\n",
       "    </tr>\n",
       "    <tr>\n",
       "      <th>2024-02-21</th>\n",
       "      <td>1.601013</td>\n",
       "      <td>-0.606304</td>\n",
       "      <td>-0.736152</td>\n",
       "      <td>-2.896489</td>\n",
       "    </tr>\n",
       "    <tr>\n",
       "      <th>2024-02-22</th>\n",
       "      <td>-1.129438</td>\n",
       "      <td>-0.743199</td>\n",
       "      <td>0.024403</td>\n",
       "      <td>0.447105</td>\n",
       "    </tr>\n",
       "    <tr>\n",
       "      <th>2024-02-23</th>\n",
       "      <td>0.412432</td>\n",
       "      <td>-0.709491</td>\n",
       "      <td>-1.239982</td>\n",
       "      <td>2.242436</td>\n",
       "    </tr>\n",
       "    <tr>\n",
       "      <th>2024-02-24</th>\n",
       "      <td>1.214636</td>\n",
       "      <td>-0.099131</td>\n",
       "      <td>-2.395436</td>\n",
       "      <td>-0.649365</td>\n",
       "    </tr>\n",
       "    <tr>\n",
       "      <th>2024-02-25</th>\n",
       "      <td>1.588285</td>\n",
       "      <td>0.235259</td>\n",
       "      <td>-0.478404</td>\n",
       "      <td>0.613438</td>\n",
       "    </tr>\n",
       "    <tr>\n",
       "      <th>2024-02-26</th>\n",
       "      <td>1.804844</td>\n",
       "      <td>0.497683</td>\n",
       "      <td>-1.399592</td>\n",
       "      <td>2.152323</td>\n",
       "    </tr>\n",
       "    <tr>\n",
       "      <th>2024-02-27</th>\n",
       "      <td>0.855279</td>\n",
       "      <td>0.933409</td>\n",
       "      <td>-0.888418</td>\n",
       "      <td>0.254006</td>\n",
       "    </tr>\n",
       "    <tr>\n",
       "      <th>2024-02-28</th>\n",
       "      <td>-1.708979</td>\n",
       "      <td>0.226020</td>\n",
       "      <td>0.532426</td>\n",
       "      <td>0.531195</td>\n",
       "    </tr>\n",
       "    <tr>\n",
       "      <th>2024-02-29</th>\n",
       "      <td>3.832801</td>\n",
       "      <td>-0.171454</td>\n",
       "      <td>0.792234</td>\n",
       "      <td>-0.184892</td>\n",
       "    </tr>\n",
       "  </tbody>\n",
       "</table>\n",
       "</div>"
      ],
      "text/plain": [
       "                   A         B         C         D\n",
       "2024-02-01  1.040153 -0.596897  0.744032  1.836658\n",
       "2024-02-02  0.480826 -0.659185 -1.777104  2.330445\n",
       "2024-02-03 -0.015526  0.167444 -0.234536  1.571414\n",
       "2024-02-04  0.212111 -0.308131 -0.140812 -0.483106\n",
       "2024-02-05 -1.187255 -0.958802 -0.081782  0.944632\n",
       "2024-02-06 -0.811901 -0.521189 -0.939116  0.773201\n",
       "2024-02-07 -1.672497 -0.114966  0.186058 -0.405962\n",
       "2024-02-08  0.281131 -0.494439  1.008714  0.472216\n",
       "2024-02-09  0.872690 -0.293247  0.464794 -0.238016\n",
       "2024-02-10  0.399919  1.210591  0.985757  1.634846\n",
       "2024-02-11 -1.121152  1.981074 -1.171181  1.628939\n",
       "2024-02-12 -0.129299  1.951283  0.200646  0.302366\n",
       "2024-02-13  0.559432  0.017248 -1.139122 -0.199525\n",
       "2024-02-14  0.412815 -0.231760 -1.012570 -2.142317\n",
       "2024-02-15 -0.745426 -0.092078 -0.908817 -1.051016\n",
       "2024-02-16 -0.288985  0.913531 -0.046659 -1.719816\n",
       "2024-02-17  0.331260 -0.159436  1.494319  0.095124\n",
       "2024-02-18  0.613599  0.587042 -1.866237  0.074422\n",
       "2024-02-19 -1.807323 -1.116650 -0.743106  0.821636\n",
       "2024-02-20  0.282888 -0.413918  1.350110  0.161026\n",
       "2024-02-21  1.601013 -0.606304 -0.736152 -2.896489\n",
       "2024-02-22 -1.129438 -0.743199  0.024403  0.447105\n",
       "2024-02-23  0.412432 -0.709491 -1.239982  2.242436\n",
       "2024-02-24  1.214636 -0.099131 -2.395436 -0.649365\n",
       "2024-02-25  1.588285  0.235259 -0.478404  0.613438\n",
       "2024-02-26  1.804844  0.497683 -1.399592  2.152323\n",
       "2024-02-27  0.855279  0.933409 -0.888418  0.254006\n",
       "2024-02-28 -1.708979  0.226020  0.532426  0.531195\n",
       "2024-02-29  3.832801 -0.171454  0.792234 -0.184892"
      ]
     },
     "execution_count": 31,
     "metadata": {},
     "output_type": "execute_result"
    }
   ],
   "source": [
    "df.loc['2024-02']"
   ]
  },
  {
   "cell_type": "markdown",
   "metadata": {},
   "source": [
    "### 3-3. 시계열 데이터 리샘플링\n",
    "시계열 데이터 리샘플링은 데이터의 시간 간격을 변경하는 과정입니다. 예를 들어, 일별 데이터를 월별 데이터로 집계하거나, 반대로 월별 데이터를 일별 데이터로 세분화 할 수 있습니다.\n",
    "\n",
    "Pandas의 resample() 메서드를 사용하여 이러한 리샘플링을 할 수 있습니다.\n",
    "* 시간간격 지정 : 'D'는 일, 'W'는 주, 'M'은 월 등\n",
    "\n",
    "* 집계 함수 : 'mean()', 'sum()', 'max()'\n",
    "\n",
    "#### 3-3-1. 일별 데이터를 월별 데이터로 집계(다운샘플링)\n",
    "아래 예시에서는 pd.date_range를 사용하여 2023년 1월 1일부터 시작하는 100일간의 일별 시계열 데이터를 생성합니다.\n",
    "\n",
    "그런 다음 resample('M') 메서드를 사용하여 이 데이터를 월별로 그룹화하고, .mean() 메서드를 적용하여 각 월의 평균 값을 계산합니다."
   ]
  },
  {
   "cell_type": "code",
   "execution_count": 17,
   "metadata": {},
   "outputs": [
    {
     "name": "stdout",
     "output_type": "stream",
     "text": [
      "Original DataFrame:\n",
      "                   A         B         C         D\n",
      "2023-01-01  0.412745  1.324441 -2.583016 -2.469058\n",
      "2023-01-02  0.194286 -0.776470 -1.892084 -0.230364\n",
      "2023-01-03  0.536137 -0.215864  0.271071 -0.614409\n",
      "2023-01-04  1.649662 -2.059493  0.932441  1.465374\n",
      "2023-01-05  1.920786 -0.431247 -0.263011  1.069185\n",
      "\n",
      "Monthly Resampled DataFrame:\n",
      "                   A         B         C         D\n",
      "2023-01-31  0.063125 -0.076823 -0.019609 -0.041231\n",
      "2023-02-28 -0.018229 -0.204911 -0.031571 -0.152336\n",
      "2023-03-31 -0.036689  0.104703  0.180623 -0.006762\n",
      "2023-04-30  0.260512 -0.148728 -0.398949  0.691427\n"
     ]
    }
   ],
   "source": [
    "import pandas as pd\n",
    "import numpy as np\n",
    "\n",
    "# 날짜 범위 생성\n",
    "rng = pd.date_range(start='2023-01-01', periods=100, freq='D')\n",
    "\n",
    "# 시계열 데이터 프레임 생성\n",
    "df = pd.DataFrame(\n",
    "    data=np.random.randn(len(rng), 4), \n",
    "    index=rng, \n",
    "    columns=list('ABCD')\n",
    ")\n",
    "print(\"Original DataFrame:\")\n",
    "print(df.head())\n",
    "\n",
    "# 월별로 리샘플링하고 평균 계산\n",
    "monthly_resampled_data = df.resample('M').mean()\n",
    "print(\"\\nMonthly Resampled DataFrame:\")\n",
    "print(monthly_resampled_data)\n"
   ]
  },
  {
   "cell_type": "markdown",
   "metadata": {},
   "source": [
    "#### 3-3-2. 월별 데이터를 일별 데이터로 세분화(업샘플링)\n",
    "업샘플링은 낮은 빈도의 데이터(예: 월별 데이터)를 높은 빈도의 데이터(예: 일별 데이터)로 변경하는 과정입니다. 업샘플링 시에는 추가되는 데이터 포인트에 값을 어떻게 할당할지 결정해야 합니다. 아래 예시에서는 업샘플링 후 결측치를 전/후의 값으로 채우는 방법을 보여줍니다."
   ]
  },
  {
   "cell_type": "code",
   "execution_count": 14,
   "metadata": {},
   "outputs": [
    {
     "name": "stdout",
     "output_type": "stream",
     "text": [
      "Original Monthly DataFrame:\n",
      "            A   B   C    D\n",
      "2023-01-31  1  10  20  100\n",
      "2023-02-28  2  20  40  200\n",
      "2023-03-31  3  30  60  300\n",
      "\n",
      "Daily Resampled DataFrame (Forward Fill):\n",
      "            A   B   C    D\n",
      "2023-01-31  1  10  20  100\n",
      "2023-02-01  1  10  20  100\n",
      "2023-02-02  1  10  20  100\n",
      "2023-02-03  1  10  20  100\n",
      "2023-02-04  1  10  20  100\n",
      "2023-02-05  1  10  20  100\n",
      "2023-02-06  1  10  20  100\n",
      "2023-02-07  1  10  20  100\n",
      "2023-02-08  1  10  20  100\n",
      "2023-02-09  1  10  20  100\n"
     ]
    }
   ],
   "source": [
    "# 월별 샘플 데이터 생성\n",
    "rng = pd.date_range('2023-01', periods=3, freq='M')\n",
    "df_monthly = pd.DataFrame({\n",
    "        'A': [1, 2, 3],\n",
    "        'B': [10, 20, 30],\n",
    "        'C': [20, 40, 60],\n",
    "        'D': [100, 200, 300]\n",
    "        }, index=rng\n",
    "    )\n",
    "\n",
    "print(\"Original Monthly DataFrame:\")\n",
    "print(df_monthly)\n",
    "\n",
    "# 월별 데이터를 일별 데이터로 업샘플링\n",
    "daily_resampled_data = df_monthly.resample('D').ffill()  \n",
    "    # 앞의 값으로 채우기\n",
    "\n",
    "print(\"\\nDaily Resampled DataFrame (Forward Fill):\")\n",
    "print(daily_resampled_data.head(10))"
   ]
  },
  {
   "cell_type": "markdown",
   "metadata": {},
   "source": [
    "### 3-4. 시계열 데이터 window 연산 사용하기\n",
    "DataFrame 형태의 시계열 데이터에 대해 window 연산을 사용하는 것은 데이터의 이동 평균(moving average) 또는 이동 표준편차(moving standard deviation)와 같은 통계를 계산할 때 유용합니다. pandas에서는 rolling() 메서드를 사용하여 이러한 유형의 연산을 할 수 있습니다.\n",
    "* window 연산 : rolling(window_size) 메서드를 사용하여 데이터에 window 연산을 적용합니다. 여기서 window_size는 연산에 포함될 기간의 크기를 나타냅니다.\n",
    "\n",
    "* 집계 함수 : 이동 평균을 계산하기 위해 mean()을 , 이동 표준편차를 계산하기 위해 std() 함수를 적용합니다."
   ]
  },
  {
   "cell_type": "code",
   "execution_count": 21,
   "metadata": {},
   "outputs": [
    {
     "name": "stdout",
     "output_type": "stream",
     "text": [
      "7-Day Moving Average:\n",
      "                    A         B         C         D\n",
      "2024-01-01       NaN       NaN       NaN       NaN\n",
      "2024-01-02       NaN       NaN       NaN       NaN\n",
      "2024-01-03       NaN       NaN       NaN       NaN\n",
      "2024-01-04       NaN       NaN       NaN       NaN\n",
      "2024-01-05       NaN       NaN       NaN       NaN\n",
      "...              ...       ...       ...       ...\n",
      "2024-12-27  0.047344 -0.122123 -0.238530 -0.288315\n",
      "2024-12-28 -0.095703 -0.170119 -0.169759 -0.365363\n",
      "2024-12-29 -0.113982 -0.168171 -0.037622 -0.307964\n",
      "2024-12-30 -0.193892 -0.114582 -0.147021 -0.312436\n",
      "2024-12-31 -0.029215  0.077890 -0.038168 -0.592213\n",
      "\n",
      "[366 rows x 4 columns]\n",
      "\n",
      "30-Day Moving Standard Deviation:\n",
      "                    A         B         C         D\n",
      "2024-01-01       NaN       NaN       NaN       NaN\n",
      "2024-01-02       NaN       NaN       NaN       NaN\n",
      "2024-01-03       NaN       NaN       NaN       NaN\n",
      "2024-01-04       NaN       NaN       NaN       NaN\n",
      "2024-01-05       NaN       NaN       NaN       NaN\n",
      "...              ...       ...       ...       ...\n",
      "2024-12-27  1.073843  0.858843  1.107382  1.128524\n",
      "2024-12-28  1.073767  0.852619  1.106365  1.110280\n",
      "2024-12-29  1.072915  0.847163  1.107950  1.100478\n",
      "2024-12-30  1.077379  0.842773  1.071605  1.066982\n",
      "2024-12-31  1.077999  0.860631  1.084460  1.074233\n",
      "\n",
      "[366 rows x 4 columns]\n"
     ]
    }
   ],
   "source": [
    "import pandas as pd\n",
    "import numpy as np\n",
    "\n",
    "# 날짜 범위 생성\n",
    "rng = pd.date_range(start='2024-01-01', end='2024-12-31', freq='D')\n",
    "\n",
    "# 시계열 데이터 프레임 생성\n",
    "df = pd.DataFrame(\n",
    "    data=np.random.randn(len(rng), 4), \n",
    "    index=rng, \n",
    "    columns=list('ABCD')\n",
    ")\n",
    "\n",
    "# 7일 이동 평균 계산\n",
    "rolling_mean_7d = df.rolling(window=7).mean()\n",
    "\n",
    "# 30일 이동 표준편차 계산\n",
    "rolling_std_30d = df.rolling(window=30).std()\n",
    "\n",
    "# 결과 출력\n",
    "print(\"7-Day Moving Average:\\n\", rolling_mean_7d)\n",
    "print(\"\\n30-Day Moving Standard Deviation:\\n\", rolling_std_30d)\n"
   ]
  },
  {
   "cell_type": "markdown",
   "metadata": {},
   "source": [
    "### 3-5. 시계열 데이터 시프트(Shift) 하기\n",
    "DataFrame의 shift() 메서드는 시계열 데이터를 시간 축에서 앞이나 뒤로 이동시키는 데 사용됩니다. 이는 시차(lag)를 생성하거나, 시계열 데이터의 변화를 계산하거나, 과거 또는 미래의 값과의 비교를 위해 사용됩니다.\n",
    "* shift 연산 : shift(periods=n) 메서드를 사용하여 데이터를 n 기간만큼 이동시킵니다. n이 양수면 데이터가 미래 방향으로, 음수면 과거 방향으로 이동합니다."
   ]
  },
  {
   "cell_type": "code",
   "execution_count": 27,
   "metadata": {},
   "outputs": [
    {
     "name": "stdout",
     "output_type": "stream",
     "text": [
      "                   A         B         C         D\n",
      "2024-01-01       NaN       NaN       NaN       NaN\n",
      "2024-01-02       NaN       NaN       NaN       NaN\n",
      "2024-01-03       NaN       NaN       NaN       NaN\n",
      "2024-01-04  1.346257  0.383934 -1.676958 -0.349071\n",
      "2024-01-05 -0.697090 -1.169137  0.138648  0.187227\n",
      "...              ...       ...       ...       ...\n",
      "2024-12-27 -1.434791 -0.554100  0.217021  0.820587\n",
      "2024-12-28 -2.072571 -1.528351 -0.672519 -0.011590\n",
      "2024-12-29  0.856718 -0.148861  0.928815  0.509663\n",
      "2024-12-30  2.128234  0.576863 -0.765556 -1.499363\n",
      "2024-12-31  0.055948  0.486873 -0.247049 -0.665535\n",
      "\n",
      "[366 rows x 4 columns]\n"
     ]
    }
   ],
   "source": [
    "# 데이터를 3기간 앞으로 이동\n",
    "df_shifted = df.shift(3)\n",
    "print(df_shifted)"
   ]
  },
  {
   "cell_type": "code",
   "execution_count": 26,
   "metadata": {},
   "outputs": [
    {
     "name": "stdout",
     "output_type": "stream",
     "text": [
      "                   A         B         C         D\n",
      "2024-01-01       NaN       NaN       NaN       NaN\n",
      "2024-01-02       NaN       NaN       NaN       NaN\n",
      "2024-01-03       NaN       NaN       NaN       NaN\n",
      "2024-01-04 -2.142274  1.596704  0.410701 -0.408522\n",
      "2024-01-05 -0.468122  2.346800 -1.360774 -0.580656\n",
      "...              ...       ...       ...       ...\n",
      "2024-12-27  3.563024  1.130963 -0.982577 -2.319950\n",
      "2024-12-28  2.128520  2.015225  0.425470 -0.653944\n",
      "2024-12-29 -0.804355 -0.172356 -0.466986 -0.495913\n",
      "2024-12-30 -3.071375  0.109853 -0.186132  0.144800\n",
      "2024-12-31 -0.338003  0.306333  1.226042 -0.472320\n",
      "\n",
      "[366 rows x 4 columns]\n"
     ]
    }
   ],
   "source": [
    "# 원본 데이터와의 차이 계산\n",
    "df_diff = df - df_shifted\n",
    "print(df_diff)"
   ]
  },
  {
   "cell_type": "code",
   "execution_count": 29,
   "metadata": {},
   "outputs": [
    {
     "name": "stdout",
     "output_type": "stream",
     "text": [
      "Original Data:\n",
      "                    A         B         C         D\n",
      "2024-01-01  1.346257  0.383934 -1.676958 -0.349071\n",
      "2024-01-02 -0.697090 -1.169137  0.138648  0.187227\n",
      "2024-01-03  0.281225 -1.736317 -0.306243  0.459929\n",
      "2024-01-04 -0.796017  1.980638 -1.266257 -0.757593\n",
      "2024-01-05 -1.165211  1.177663 -1.222126 -0.393429\n",
      "...              ...       ...       ...       ...\n",
      "2024-12-27  2.128234  0.576863 -0.765556 -1.499363\n",
      "2024-12-28  0.055948  0.486873 -0.247049 -0.665535\n",
      "2024-12-29  0.052363 -0.321217  0.461829  0.013750\n",
      "2024-12-30 -0.943142  0.686716 -0.951688 -1.354563\n",
      "2024-12-31 -0.282055  0.793207  0.978993 -1.137854\n",
      "\n",
      "[366 rows x 4 columns]\n",
      "\n",
      "Shifted Data:\n",
      "                    A         B         C         D\n",
      "2024-01-01       NaN       NaN       NaN       NaN\n",
      "2024-01-02       NaN       NaN       NaN       NaN\n",
      "2024-01-03       NaN       NaN       NaN       NaN\n",
      "2024-01-04  1.346257  0.383934 -1.676958 -0.349071\n",
      "2024-01-05 -0.697090 -1.169137  0.138648  0.187227\n",
      "...              ...       ...       ...       ...\n",
      "2024-12-27 -1.434791 -0.554100  0.217021  0.820587\n",
      "2024-12-28 -2.072571 -1.528351 -0.672519 -0.011590\n",
      "2024-12-29  0.856718 -0.148861  0.928815  0.509663\n",
      "2024-12-30  2.128234  0.576863 -0.765556 -1.499363\n",
      "2024-12-31  0.055948  0.486873 -0.247049 -0.665535\n",
      "\n",
      "[366 rows x 4 columns]\n",
      "\n",
      "Difference:\n",
      "                    A         B         C         D\n",
      "2024-01-01       NaN       NaN       NaN       NaN\n",
      "2024-01-02       NaN       NaN       NaN       NaN\n",
      "2024-01-03       NaN       NaN       NaN       NaN\n",
      "2024-01-04 -2.142274  1.596704  0.410701 -0.408522\n",
      "2024-01-05 -0.468122  2.346800 -1.360774 -0.580656\n",
      "...              ...       ...       ...       ...\n",
      "2024-12-27  3.563024  1.130963 -0.982577 -2.319950\n",
      "2024-12-28  2.128520  2.015225  0.425470 -0.653944\n",
      "2024-12-29 -0.804355 -0.172356 -0.466986 -0.495913\n",
      "2024-12-30 -3.071375  0.109853 -0.186132  0.144800\n",
      "2024-12-31 -0.338003  0.306333  1.226042 -0.472320\n",
      "\n",
      "[366 rows x 4 columns]\n"
     ]
    }
   ],
   "source": [
    "# 결과 출력\n",
    "print(\"Original Data:\\n\", df)\n",
    "print(\"\\nShifted Data:\\n\", df_shifted)\n",
    "print(\"\\nDifference:\\n\", df_diff)"
   ]
  },
  {
   "cell_type": "markdown",
   "metadata": {},
   "source": [
    "## 4. 중복된 시계열 인덱스를 갖는 데이터\n",
    "### 4-1. 시계열 데이터 생성"
   ]
  },
  {
   "cell_type": "code",
   "execution_count": 57,
   "metadata": {},
   "outputs": [
    {
     "name": "stdout",
     "output_type": "stream",
     "text": [
      "                   A         B         C         D\n",
      "2023-01-01  0.035310 -0.695509  1.491851 -0.073668\n",
      "2023-01-02  0.543639 -0.401015 -2.235579  1.415150\n",
      "2023-01-03  0.611283 -0.327352  1.556502 -3.356955\n",
      "2023-01-04  0.868421  0.231065 -1.439069 -0.785225\n",
      "2023-01-05 -0.570789 -1.108389  0.422896  0.633298\n",
      "2023-01-03  0.691459  1.631827 -0.005751  0.663083\n",
      "2023-01-04 -1.541552  0.193779  0.003316  0.270038\n",
      "2023-01-05  0.474685 -0.400776  0.449319 -0.263959\n"
     ]
    }
   ],
   "source": [
    "import pandas as pd\n",
    "import numpy as np\n",
    "\n",
    "# 중복 날짜 인덱스 데이터 준비\n",
    "dates = pd.date_range(\n",
    "    '2023-01-01', periods=5, freq='D'\n",
    ").tolist() + pd.date_range(\n",
    "    '2023-01-03', periods=3, freq='D'\n",
    ").tolist()\n",
    "data = np.random.randn(8, 4)\n",
    "\n",
    "# DataFrame 생성\n",
    "df = pd.DataFrame(data, index=dates, columns=list('ABCD'))\n",
    "\n",
    "print(df)"
   ]
  },
  {
   "cell_type": "markdown",
   "metadata": {},
   "source": [
    "### 4-2. is_unique 속성 확인"
   ]
  },
  {
   "cell_type": "code",
   "execution_count": 58,
   "metadata": {},
   "outputs": [
    {
     "data": {
      "text/plain": [
       "False"
      ]
     },
     "execution_count": 58,
     "metadata": {},
     "output_type": "execute_result"
    }
   ],
   "source": [
    "df.index.is_unique"
   ]
  },
  {
   "cell_type": "markdown",
   "metadata": {},
   "source": [
    "### 4-3. 유니크한 시계열 인덱스를 갖도록 데이터 집계하기"
   ]
  },
  {
   "cell_type": "code",
   "execution_count": 59,
   "metadata": {},
   "outputs": [],
   "source": [
    "grouped = df.groupby(level=0)"
   ]
  },
  {
   "cell_type": "code",
   "execution_count": 60,
   "metadata": {},
   "outputs": [
    {
     "data": {
      "text/html": [
       "<div>\n",
       "<style scoped>\n",
       "    .dataframe tbody tr th:only-of-type {\n",
       "        vertical-align: middle;\n",
       "    }\n",
       "\n",
       "    .dataframe tbody tr th {\n",
       "        vertical-align: top;\n",
       "    }\n",
       "\n",
       "    .dataframe thead th {\n",
       "        text-align: right;\n",
       "    }\n",
       "</style>\n",
       "<table border=\"1\" class=\"dataframe\">\n",
       "  <thead>\n",
       "    <tr style=\"text-align: right;\">\n",
       "      <th></th>\n",
       "      <th>A</th>\n",
       "      <th>B</th>\n",
       "      <th>C</th>\n",
       "      <th>D</th>\n",
       "    </tr>\n",
       "  </thead>\n",
       "  <tbody>\n",
       "    <tr>\n",
       "      <th>2023-01-01</th>\n",
       "      <td>0.035310</td>\n",
       "      <td>-0.695509</td>\n",
       "      <td>1.491851</td>\n",
       "      <td>-0.073668</td>\n",
       "    </tr>\n",
       "    <tr>\n",
       "      <th>2023-01-02</th>\n",
       "      <td>0.543639</td>\n",
       "      <td>-0.401015</td>\n",
       "      <td>-2.235579</td>\n",
       "      <td>1.415150</td>\n",
       "    </tr>\n",
       "    <tr>\n",
       "      <th>2023-01-03</th>\n",
       "      <td>0.651371</td>\n",
       "      <td>0.652237</td>\n",
       "      <td>0.775376</td>\n",
       "      <td>-1.346936</td>\n",
       "    </tr>\n",
       "    <tr>\n",
       "      <th>2023-01-04</th>\n",
       "      <td>-0.336565</td>\n",
       "      <td>0.212422</td>\n",
       "      <td>-0.717877</td>\n",
       "      <td>-0.257593</td>\n",
       "    </tr>\n",
       "    <tr>\n",
       "      <th>2023-01-05</th>\n",
       "      <td>-0.048052</td>\n",
       "      <td>-0.754582</td>\n",
       "      <td>0.436108</td>\n",
       "      <td>0.184669</td>\n",
       "    </tr>\n",
       "  </tbody>\n",
       "</table>\n",
       "</div>"
      ],
      "text/plain": [
       "                   A         B         C         D\n",
       "2023-01-01  0.035310 -0.695509  1.491851 -0.073668\n",
       "2023-01-02  0.543639 -0.401015 -2.235579  1.415150\n",
       "2023-01-03  0.651371  0.652237  0.775376 -1.346936\n",
       "2023-01-04 -0.336565  0.212422 -0.717877 -0.257593\n",
       "2023-01-05 -0.048052 -0.754582  0.436108  0.184669"
      ]
     },
     "execution_count": 60,
     "metadata": {},
     "output_type": "execute_result"
    }
   ],
   "source": [
    "grouped.mean()"
   ]
  },
  {
   "cell_type": "code",
   "execution_count": 61,
   "metadata": {},
   "outputs": [
    {
     "data": {
      "text/html": [
       "<div>\n",
       "<style scoped>\n",
       "    .dataframe tbody tr th:only-of-type {\n",
       "        vertical-align: middle;\n",
       "    }\n",
       "\n",
       "    .dataframe tbody tr th {\n",
       "        vertical-align: top;\n",
       "    }\n",
       "\n",
       "    .dataframe thead th {\n",
       "        text-align: right;\n",
       "    }\n",
       "</style>\n",
       "<table border=\"1\" class=\"dataframe\">\n",
       "  <thead>\n",
       "    <tr style=\"text-align: right;\">\n",
       "      <th></th>\n",
       "      <th>A</th>\n",
       "      <th>B</th>\n",
       "      <th>C</th>\n",
       "      <th>D</th>\n",
       "    </tr>\n",
       "  </thead>\n",
       "  <tbody>\n",
       "    <tr>\n",
       "      <th>2023-01-01</th>\n",
       "      <td>1</td>\n",
       "      <td>1</td>\n",
       "      <td>1</td>\n",
       "      <td>1</td>\n",
       "    </tr>\n",
       "    <tr>\n",
       "      <th>2023-01-02</th>\n",
       "      <td>1</td>\n",
       "      <td>1</td>\n",
       "      <td>1</td>\n",
       "      <td>1</td>\n",
       "    </tr>\n",
       "    <tr>\n",
       "      <th>2023-01-03</th>\n",
       "      <td>2</td>\n",
       "      <td>2</td>\n",
       "      <td>2</td>\n",
       "      <td>2</td>\n",
       "    </tr>\n",
       "    <tr>\n",
       "      <th>2023-01-04</th>\n",
       "      <td>2</td>\n",
       "      <td>2</td>\n",
       "      <td>2</td>\n",
       "      <td>2</td>\n",
       "    </tr>\n",
       "    <tr>\n",
       "      <th>2023-01-05</th>\n",
       "      <td>2</td>\n",
       "      <td>2</td>\n",
       "      <td>2</td>\n",
       "      <td>2</td>\n",
       "    </tr>\n",
       "  </tbody>\n",
       "</table>\n",
       "</div>"
      ],
      "text/plain": [
       "            A  B  C  D\n",
       "2023-01-01  1  1  1  1\n",
       "2023-01-02  1  1  1  1\n",
       "2023-01-03  2  2  2  2\n",
       "2023-01-04  2  2  2  2\n",
       "2023-01-05  2  2  2  2"
      ]
     },
     "execution_count": 61,
     "metadata": {},
     "output_type": "execute_result"
    }
   ],
   "source": [
    "grouped.count()"
   ]
  }
 ],
 "metadata": {
  "kernelspec": {
   "display_name": "fastcampus",
   "language": "python",
   "name": "python3"
  },
  "language_info": {
   "codemirror_mode": {
    "name": "ipython",
    "version": 3
   },
   "file_extension": ".py",
   "mimetype": "text/x-python",
   "name": "python",
   "nbconvert_exporter": "python",
   "pygments_lexer": "ipython3",
   "version": "3.11.7"
  }
 },
 "nbformat": 4,
 "nbformat_minor": 2
}

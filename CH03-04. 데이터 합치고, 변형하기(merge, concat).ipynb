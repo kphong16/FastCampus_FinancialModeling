{
 "cells": [
  {
   "cell_type": "markdown",
   "metadata": {},
   "source": [
    "# [ 3-4. 데이터 합치고, 변형하기(merge, concat) ]"
   ]
  },
  {
   "cell_type": "markdown",
   "metadata": {},
   "source": [
    "## 1. merge 함수\n",
    "pandas의 merge 함수는 두 데이터프레임을 병합하는 기능을 제공하며, SQL의 JOIN 연산과 유사하게 작동합니다."
   ]
  },
  {
   "cell_type": "markdown",
   "metadata": {},
   "source": [
    "### 1-1. 기본 사용법"
   ]
  },
  {
   "cell_type": "code",
   "execution_count": null,
   "metadata": {},
   "outputs": [],
   "source": [
    "pandas.merge(\n",
    "    left, right, \n",
    "    how='inner', on=None, left_on=None, right_on=None, \n",
    "    left_index=False, right_index=False, sort=True\n",
    ")"
   ]
  },
  {
   "cell_type": "markdown",
   "metadata": {},
   "source": [
    "* left : 병합할 첫 번째 DataFrame\n",
    "\n",
    "* right : 병합할 두 번째 DataFrame\n",
    "\n",
    "* how : ['left', 'right', 'outer', 'inner']. 병합 방식을 지정하며, 기본값은 inner 입니다.\n",
    "  - 내부 조인(inner join) : 양쪽 DataFrame 모두에 존재하는 키(열)에 대해서만 병합\n",
    "  - 외부 조인(outer join) : 양쪽 DataFrame 중 하나라도 키(열)가 존재하면 병합하고, 누락된 데이터는 'NaN'으로 표시\n",
    "  - 왼쪽 조인(left join) : 왼쪽 DataFrame의 키(열)를 기준으로 병합하며, 오른쪽 DataFrame에서 매칭되지 않는 경우 'NaN'으로 표시\n",
    "  - 오른쪽 조인(right join) : 오른쪽 DataFrame의 키(열)를 기준으로 병합하며, 왼쪽 DataFrame에서 매칭되지 않는 경우 'NaN'으로 표시\n",
    "\n",
    "* on : 병합할 때 사용할 열 이름. 이 매개변수가 주어지면, 이 이름을 가진 열이 양쪽 DataFrame에서 병합의 기준이 됩니다. 두 DataFrame에 모두 존재하는 열 이름이어야 합니다.\n",
    "\n",
    "* left_on : 첫 번째 DataFrame에서 병합 키로 사용할 열 이름\n",
    "\n",
    "* right_on : 두 번째 DataFrame에서 병합 키로 사용할 열 이름\n",
    "\n",
    "* left_index : 첫 번째 DataFrame의 인덱스를 병합 키로 사용할지 여부를 지정(기본값은 False)\n",
    "\n",
    "* right_index : 첫 번째 DataFrame의 인덱스를 병합 키로 사용할지 여부를 지정(기본값은 False)\n",
    "\n",
    "* sort : 병합 결과를 병합 키에 따라 정렬할지 여부를 지정(기본값은 False)"
   ]
  },
  {
   "cell_type": "markdown",
   "metadata": {},
   "source": [
    "### 1-2. 기본 사용 예시"
   ]
  },
  {
   "cell_type": "code",
   "execution_count": 2,
   "metadata": {},
   "outputs": [
    {
     "name": "stdout",
     "output_type": "stream",
     "text": [
      "df1 : \n",
      "   employee        group\n",
      "0      Bob   Accounting\n",
      "1     Jake  Engineering\n",
      "2     Lisa  Engineering\n",
      "3      Sue           HR\n",
      "\n",
      "df2 : \n",
      "   employee  hire_date\n",
      "0     Lisa       2004\n",
      "1      Bob       2008\n",
      "2     Jake       2012\n",
      "3      Sue       2014\n"
     ]
    }
   ],
   "source": [
    "import pandas as pd\n",
    "from pandas import DataFrame, Series\n",
    "\n",
    "df1 = DataFrame({\n",
    "    'employee': ['Bob', 'Jake', 'Lisa', 'Sue'],\n",
    "    'group': ['Accounting', 'Engineering', 'Engineering', 'HR']\n",
    "})\n",
    "df2 = DataFrame({\n",
    "    'employee': ['Lisa', 'Bob', 'Jake', 'Sue'],\n",
    "    'hire_date': [2004, 2008, 2012, 2014]\n",
    "})\n",
    "\n",
    "print(\"df1 : \\n\", df1)\n",
    "print(\"\\ndf2 : \\n\", df2)"
   ]
  },
  {
   "cell_type": "code",
   "execution_count": 3,
   "metadata": {},
   "outputs": [
    {
     "name": "stdout",
     "output_type": "stream",
     "text": [
      "  employee        group  hire_date\n",
      "0      Bob   Accounting       2008\n",
      "1     Jake  Engineering       2012\n",
      "2     Lisa  Engineering       2004\n",
      "3      Sue           HR       2014\n"
     ]
    }
   ],
   "source": [
    "# employee를 기준으로 두 DataFrame을 내부 조인(inner join)\n",
    "merged_df = pd.merge(df1, df2, on='employee')\n",
    "\n",
    "print(merged_df)"
   ]
  },
  {
   "cell_type": "code",
   "execution_count": 4,
   "metadata": {},
   "outputs": [
    {
     "name": "stdout",
     "output_type": "stream",
     "text": [
      "  employee        group  hire_date\n",
      "0      Bob   Accounting       2008\n",
      "1     Jake  Engineering       2012\n",
      "2     Lisa  Engineering       2004\n",
      "3      Sue           HR       2014\n"
     ]
    }
   ],
   "source": [
    "# 이 경우 how 매개변수를 어떻게 지정하여도 결과는 동일함\n",
    "merged_df = pd.merge(df1, df2, on='employee', how='inner')\n",
    "\n",
    "print(merged_df)"
   ]
  },
  {
   "cell_type": "markdown",
   "metadata": {},
   "source": [
    "### 1-3. 서로 다른 키 값으로 merge하는 경우"
   ]
  },
  {
   "cell_type": "code",
   "execution_count": 5,
   "metadata": {},
   "outputs": [
    {
     "name": "stdout",
     "output_type": "stream",
     "text": [
      "  employee_id   name  age id  salary  bonus\n",
      "0           1  Alice   30  1   70000  10000\n",
      "1           2    Bob   37  2   60000  20000\n",
      "2           4  David   45  4   80000  10000\n"
     ]
    }
   ],
   "source": [
    "# 첫 번째 DataFrame 생성\n",
    "df1 = DataFrame({\n",
    "    'employee_id': ['1', '2', '3', '4'],\n",
    "    'name': ['Alice', 'Bob', 'Charlie', 'David'],\n",
    "    'age' : [30, 37, 26, 45]\n",
    "})\n",
    "\n",
    "# 두 번째 DataFrame 생성\n",
    "df2 = DataFrame({\n",
    "    'id': ['1', '2', '4', '5'],\n",
    "    'salary': [70000, 60000, 80000, 90000],\n",
    "    'bonus': [10000, 20000, 10000, 20000]\n",
    "})\n",
    "\n",
    "# 서로 다른 키(employee_id, id)로 두 DataFrame 병합\n",
    "merged_df = pd.merge(df1, df2, left_on='employee_id', right_on='id')\n",
    "\n",
    "print(merged_df)\n"
   ]
  },
  {
   "cell_type": "markdown",
   "metadata": {},
   "source": [
    "이 경우 employee_id와 id 값이 일치하는 행만을 포함하며, 두 키 모두 결과에 포함됩니다.\n",
    "\n",
    "필요한 경우 drop 메서드를 사용하여 중복되는 하나의 키(id 또는 employee_id)를 삭제할 수 있습니다."
   ]
  },
  {
   "cell_type": "code",
   "execution_count": 6,
   "metadata": {},
   "outputs": [
    {
     "name": "stdout",
     "output_type": "stream",
     "text": [
      "  employee_id   name  age  salary  bonus\n",
      "0           1  Alice   30   70000  10000\n",
      "1           2    Bob   37   60000  20000\n",
      "2           4  David   45   80000  10000\n"
     ]
    }
   ],
   "source": [
    "merged_df = merged_df.drop('id', axis=1)\n",
    "print(merged_df)"
   ]
  },
  {
   "cell_type": "markdown",
   "metadata": {},
   "source": [
    "### 1-4. 인덱스를 기준으로 merge하는 경우"
   ]
  },
  {
   "cell_type": "markdown",
   "metadata": {},
   "source": [
    "기존 df1의 employee_id와 df2의 id를 인덱스로 변경"
   ]
  },
  {
   "cell_type": "code",
   "execution_count": 7,
   "metadata": {},
   "outputs": [
    {
     "name": "stdout",
     "output_type": "stream",
     "text": [
      "                name  age\n",
      "employee_id              \n",
      "1              Alice   30\n",
      "2                Bob   37\n",
      "3            Charlie   26\n",
      "4              David   45\n"
     ]
    }
   ],
   "source": [
    "df1.set_index('employee_id', inplace=True)\n",
    "print(df1)"
   ]
  },
  {
   "cell_type": "code",
   "execution_count": 8,
   "metadata": {},
   "outputs": [
    {
     "name": "stdout",
     "output_type": "stream",
     "text": [
      "    salary  bonus\n",
      "id               \n",
      "1    70000  10000\n",
      "2    60000  20000\n",
      "4    80000  10000\n",
      "5    90000  20000\n"
     ]
    }
   ],
   "source": [
    "df2.set_index('id', inplace=True)\n",
    "print(df2)"
   ]
  },
  {
   "cell_type": "markdown",
   "metadata": {},
   "source": [
    "인덱스를 기준으로 병합"
   ]
  },
  {
   "cell_type": "code",
   "execution_count": 9,
   "metadata": {},
   "outputs": [
    {
     "name": "stdout",
     "output_type": "stream",
     "text": [
      "                name  age   salary    bonus\n",
      "employee_id                                \n",
      "1              Alice   30  70000.0  10000.0\n",
      "2                Bob   37  60000.0  20000.0\n",
      "3            Charlie   26      NaN      NaN\n",
      "4              David   45  80000.0  10000.0\n"
     ]
    }
   ],
   "source": [
    "merged_df = pd.merge(\n",
    "    df1, df2, \n",
    "    left_index=True, right_index=True, \n",
    "    how='left'\n",
    ")\n",
    "\n",
    "print(merged_df)"
   ]
  },
  {
   "cell_type": "markdown",
   "metadata": {},
   "source": [
    "## 2. join 메서드\n",
    "join 메서드는 한 DataFrame을 다른 DataFrame의 인덱스에 따라 병합할 때 사용됩니다. 인덱스를 기준으로 merge 작업을 할 때 편리합니다.\n",
    "\n",
    "join 메서드는 인덱스를 기준으로 병합을 수행하며, 'on' 매개변수를 사용해 특정 컬럼을 병합 기준으로 지정할 수도 있습니다."
   ]
  },
  {
   "cell_type": "markdown",
   "metadata": {},
   "source": [
    "### 2-1. 기본 사용법"
   ]
  },
  {
   "cell_type": "code",
   "execution_count": null,
   "metadata": {},
   "outputs": [],
   "source": [
    "DataFrame.join(other, on=None, how='left', sort=False)"
   ]
  },
  {
   "cell_type": "markdown",
   "metadata": {},
   "source": [
    "* other : 현재 DataFrame에 병합할 다른 DataFrame, Series, 또는 DataFrame의 리스트\n",
    "\n",
    "* on : 다른 DataFrame의 컬럼을 현재 DataFrame의 인덱스와 병합하기 위해 사용할 컬럼 이름\n",
    "\n",
    "* how : 병합 방식('left', 'right', 'outer', 'inner' 중 하나) 기본값은 'left'\n",
    "\n",
    "* sort : 결과를 병합 키에 따라 정렬할지 여부를 결정하는 블리언 값. 기본값은 False"
   ]
  },
  {
   "cell_type": "markdown",
   "metadata": {},
   "source": [
    "### 2-2. 사용 예시"
   ]
  },
  {
   "cell_type": "code",
   "execution_count": 11,
   "metadata": {},
   "outputs": [
    {
     "name": "stdout",
     "output_type": "stream",
     "text": [
      "                name  age   salary    bonus\n",
      "employee_id                                \n",
      "1              Alice   30  70000.0  10000.0\n",
      "2                Bob   37  60000.0  20000.0\n",
      "3            Charlie   26      NaN      NaN\n",
      "4              David   45  80000.0  10000.0\n"
     ]
    }
   ],
   "source": [
    "joined_df = df1.join(df2, how='left')\n",
    "print(joined_df)"
   ]
  },
  {
   "cell_type": "markdown",
   "metadata": {},
   "source": [
    "## 3. concat 함수\n",
    "concat 함수는 pandas에서 여러 객체(주로 DataFrame이나 Series)를 축(axis)을 따라 연결하는 데 사용되는 함수입니다. 이 함수는 리스트나 딕셔너리 형태의 pandas 객체들을 받아서 단일 객체로 결합합니다.\n",
    "concat 함수는 인덱스를 기준으로 데이터를 연결하며, 필요에 따라 인덱스를 무시하고 데이터를 순차적으로 연결할 수도 있습니다."
   ]
  },
  {
   "cell_type": "code",
   "execution_count": null,
   "metadata": {},
   "outputs": [],
   "source": [
    "pandas.concat(objs, axis=0, join='outer', ignore_index=False)"
   ]
  },
  {
   "cell_type": "markdown",
   "metadata": {},
   "source": [
    "* objs : 연결하려는 pandas 객체의 리스트 또는 딕셔너리.\n",
    "\n",
    "* axis : 연결 방향을 결정합니다. 0은 행 방향(세로), 1은 열 방향(가로) 입니다.\n",
    "\n",
    "* join : ['outer', 'inner'], 기본값은 'outer' 입니다.\n",
    "\n",
    "* ignore_index : True로 설정하면 연결 후의 인덱스를 [0, ..., n-1]로 새로 설정합니다. 기본값은 False 입니다."
   ]
  },
  {
   "cell_type": "code",
   "execution_count": 13,
   "metadata": {},
   "outputs": [
    {
     "name": "stdout",
     "output_type": "stream",
     "text": [
      "    A   B\n",
      "0  A1  B1\n",
      "1  A2  B2\n",
      "0  A3  B3\n",
      "1  A4  B4\n"
     ]
    }
   ],
   "source": [
    "import pandas as pd\n",
    "\n",
    "df1 = pd.DataFrame({'A': ['A1', 'A2'], 'B': ['B1', 'B2']})\n",
    "df2 = pd.DataFrame({'A': ['A3', 'A4'], 'B': ['B3', 'B4']})\n",
    "\n",
    "result = pd.concat([df1, df2])\n",
    "print(result)"
   ]
  },
  {
   "cell_type": "code",
   "execution_count": 14,
   "metadata": {},
   "outputs": [
    {
     "name": "stdout",
     "output_type": "stream",
     "text": [
      "    A   B   A   B\n",
      "0  A1  B1  A3  B3\n",
      "1  A2  B2  A4  B4\n"
     ]
    }
   ],
   "source": [
    "# 열 방향(가로)으로 DataFrame 연결하기\n",
    "result = pd.concat([df1, df2], axis=1)\n",
    "print(result)"
   ]
  },
  {
   "cell_type": "code",
   "execution_count": 15,
   "metadata": {},
   "outputs": [
    {
     "name": "stdout",
     "output_type": "stream",
     "text": [
      "    A   B\n",
      "0  A1  B1\n",
      "1  A2  B2\n",
      "2  A3  B3\n",
      "3  A4  B4\n"
     ]
    }
   ],
   "source": [
    "# 인덱스 무시하고 연결하기\n",
    "result = pd.concat([df1, df2], ignore_index=True)\n",
    "print(result)"
   ]
  }
 ],
 "metadata": {
  "kernelspec": {
   "display_name": "base",
   "language": "python",
   "name": "python3"
  },
  "language_info": {
   "codemirror_mode": {
    "name": "ipython",
    "version": 3
   },
   "file_extension": ".py",
   "mimetype": "text/x-python",
   "name": "python",
   "nbconvert_exporter": "python",
   "pygments_lexer": "ipython3",
   "version": "3.11.7"
  }
 },
 "nbformat": 4,
 "nbformat_minor": 2
}

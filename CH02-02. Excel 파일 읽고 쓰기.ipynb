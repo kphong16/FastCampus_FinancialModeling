{
 "cells": [
  {
   "cell_type": "markdown",
   "metadata": {},
   "source": [
    "# [ 2-2. Excel 파일 읽고 쓰기 ]"
   ]
  },
  {
   "cell_type": "markdown",
   "metadata": {},
   "source": [
    "## 1. openpyxl 라이브러리 소개\n",
    "'openpyxl' 라이브러리는 파이썬에서 엑셀 파일을 다루는 데 사용되는 라이브러리입니다. 이를 사용하면 엑셀 파일을 열고, 수정하고, 저장할 수 있습니다."
   ]
  },
  {
   "cell_type": "markdown",
   "metadata": {},
   "source": [
    "### 1-1. 라이브러리 설치\n",
    "먼저 'openpyxl' 라이브러리가 설치되어 있지 않다면, 이를 설치해야 합니다. 아나콘다를 설치하고, 아나콘다 환경의 파이썬을 사용하는 경우 해당 라이브러리가 이미 설치되어 있을 가능성이 높습니다."
   ]
  },
  {
   "cell_type": "markdown",
   "metadata": {},
   "source": [
    "#### 1-1-1. 설치 확인\n",
    "* 아나콘다 네비게이터 - Environments 에서 'openpyxl'을 조회해보면 설치 여부를 확인할 수 있습니다.\n",
    "* 직접 import를 해보는 방식으로 설치 여부를 확인할 수도 있습니다. import 해보고 에러가 발생하면 설치가 필요합니다."
   ]
  },
  {
   "cell_type": "code",
   "execution_count": 6,
   "metadata": {},
   "outputs": [
    {
     "data": {
      "text/plain": [
       "<module 'openpyxl' from '/Users/KP_Hong/anaconda3/lib/python3.11/site-packages/openpyxl/__init__.py'>"
      ]
     },
     "execution_count": 6,
     "metadata": {},
     "output_type": "execute_result"
    }
   ],
   "source": [
    "import openpyxl\n",
    "openpyxl"
   ]
  },
  {
   "cell_type": "markdown",
   "metadata": {},
   "source": [
    "* 상기 실행 내용을 보시면 import를 하는 중에 에러가 발생하지 않고, 'openpyxl' 객체를 조회했을 때 해당 모듈의 내용이 조회되고 있습니다.\n",
    "* 설치가 되어 있고, 사용이 가능한 상황입니다."
   ]
  },
  {
   "cell_type": "markdown",
   "metadata": {},
   "source": [
    "#### 1-1-2. 설치 하기\n",
    "* 가장 쉬운 방식은 아나콘다에서 라이브러리를 조회하고 설치하는 것입니다.\n",
    "* 윈도우즈 명령 프롬프트 또는 파워쉘에서나 맥OS 터미널에서 아래와 같이 명령어를 실행하여 설치할 수도 있습니다.\n",
    "```\n",
    "pip install openpyxl\n",
    "```"
   ]
  },
  {
   "cell_type": "markdown",
   "metadata": {},
   "source": [
    "### 1-2. Excel 파일 열고 쓰기"
   ]
  },
  {
   "cell_type": "markdown",
   "metadata": {},
   "source": [
    "#### 1-2-1. 엑셀 파일에 데이터 쓰기"
   ]
  },
  {
   "cell_type": "code",
   "execution_count": 1,
   "metadata": {},
   "outputs": [],
   "source": [
    "from openpyxl import Workbook\n",
    "\n",
    "# 새로운 워크북(엑셀 파일) 생성\n",
    "workbook = Workbook()"
   ]
  },
  {
   "cell_type": "markdown",
   "metadata": {},
   "source": [
    "* 'openpyxl' 라이브러리의 Workbook 클래스를 import 합니다.\n",
    "\n",
    "* Workbook() 클래스를 사용하여 새로운 워크북(엑셀 파일)을 생성합니다."
   ]
  },
  {
   "cell_type": "code",
   "execution_count": 2,
   "metadata": {},
   "outputs": [],
   "source": [
    "# 활성 시트(첫 번째 시트) 선택\n",
    "sheet = workbook.active\n",
    "\n",
    "# 셀에 데이터 쓰기\n",
    "sheet['A1'] = 'Name'\n",
    "sheet['B1'] = 'Age'\n",
    "sheet['C1'] = 'Gender'\n",
    "\n",
    "# 여러 셀에 데이터 쓰기\n",
    "data = [\n",
    "    ('John', 25, 'male'),\n",
    "    ('Emily', 30, 'female'),\n",
    "    ('Michael', 35, 'male')\n",
    "]\n",
    "for row_data in data:\n",
    "    sheet.append(row_data)"
   ]
  },
  {
   "cell_type": "markdown",
   "metadata": {},
   "source": [
    "* 'workbook' 인스턴스의 'active' 속성을 사용하여 활성 시트(첫번째 시트)를 선택한 후 'sheet' 변수에 할당합니다.\n",
    "\n",
    "* 셀의 주소를 인덱스로 사용하여 각 셀에 데이터를 씁니다.\n",
    "\n",
    "* 'append()' 메서드를 사용하여 여러 셀에 한 번에 데이터를 쓸 수도 있습니다."
   ]
  },
  {
   "cell_type": "code",
   "execution_count": 3,
   "metadata": {},
   "outputs": [],
   "source": [
    "# 엑셀 파일 저장\n",
    "workbook.save('excel_data.xlsx')"
   ]
  },
  {
   "cell_type": "markdown",
   "metadata": {},
   "source": [
    "* 'workbook' 인스턴스의 'save()' 메서드를 사용하여 엑셀 파일을 저장합니다. 이때 저장할 파일의 이름을 인자로 전달합니다."
   ]
  },
  {
   "cell_type": "markdown",
   "metadata": {},
   "source": [
    "#### 1-2-2. 엑셀 파일의 데이터 읽어오기"
   ]
  },
  {
   "cell_type": "code",
   "execution_count": 4,
   "metadata": {},
   "outputs": [
    {
     "name": "stdout",
     "output_type": "stream",
     "text": [
      "('Name', 'Age', 'Gender')\n",
      "('John', 25, 'male')\n",
      "('Emily', 30, 'female')\n",
      "('Michael', 35, 'male')\n"
     ]
    }
   ],
   "source": [
    "from openpyxl import load_workbook\n",
    "\n",
    "# 엑셀 파일 열기\n",
    "workbook = load_workbook('excel_data.xlsx')\n",
    "\n",
    "# 활성 시트(첫 번째 시트) 선택\n",
    "sheet = workbook.active\n",
    "\n",
    "# 엑셀 파일의 각 행을 출력\n",
    "for row in sheet.iter_rows(values_only=True):\n",
    "    print(row)"
   ]
  },
  {
   "cell_type": "code",
   "execution_count": 5,
   "metadata": {},
   "outputs": [
    {
     "name": "stdout",
     "output_type": "stream",
     "text": [
      "{'Name': ['John', 'Emily', 'Michael'], 'Age': [25, 30, 35], 'Gender': ['male', 'female', 'male']}\n"
     ]
    }
   ],
   "source": [
    "# 공 딕셔너리 생성\n",
    "data_dict = {}\n",
    "\n",
    "for col in sheet.iter_cols(values_only=True):\n",
    "    # 각 컬럼 값들에 대해서 첫번째 값은 딕셔너리의 키로, 나머지 값들은 딕셔너리의 값으로 사용\n",
    "    data_dict[col[0]] = list(col[1:])\n",
    "\n",
    "print(data_dict)"
   ]
  },
  {
   "cell_type": "code",
   "execution_count": 6,
   "metadata": {},
   "outputs": [
    {
     "data": {
      "text/plain": [
       "[25, 30, 35]"
      ]
     },
     "execution_count": 6,
     "metadata": {},
     "output_type": "execute_result"
    }
   ],
   "source": [
    "data_dict['Age']"
   ]
  },
  {
   "cell_type": "markdown",
   "metadata": {},
   "source": [
    "#### 1-2-3. sheet 객체의 cell 객체에 접근하기"
   ]
  },
  {
   "cell_type": "markdown",
   "metadata": {},
   "source": [
    "* sheet 객체에 셀의 주소를 지정해주는 방식으로 개별 셀 객체에 접근 가능합니다."
   ]
  },
  {
   "cell_type": "code",
   "execution_count": 7,
   "metadata": {},
   "outputs": [
    {
     "data": {
      "text/plain": [
       "<Cell 'Sheet'.A1>"
      ]
     },
     "execution_count": 7,
     "metadata": {},
     "output_type": "execute_result"
    }
   ],
   "source": [
    "# sheet 객체의 cell 객체\n",
    "sheet['A1']"
   ]
  },
  {
   "cell_type": "code",
   "execution_count": 8,
   "metadata": {},
   "outputs": [
    {
     "data": {
      "text/plain": [
       "'Name'"
      ]
     },
     "execution_count": 8,
     "metadata": {},
     "output_type": "execute_result"
    }
   ],
   "source": [
    "sheet['A1'].value"
   ]
  },
  {
   "cell_type": "code",
   "execution_count": 9,
   "metadata": {},
   "outputs": [
    {
     "data": {
      "text/plain": [
       "'John'"
      ]
     },
     "execution_count": 9,
     "metadata": {},
     "output_type": "execute_result"
    }
   ],
   "source": [
    "sheet['A2'].value"
   ]
  },
  {
   "cell_type": "markdown",
   "metadata": {},
   "source": [
    "* sheet 객체는 cell 메서드를 가지고 있으며, cell 메서드에 행번호와 열번호를 지정해주는 방식으로 셀에 접근 가능합니다."
   ]
  },
  {
   "cell_type": "code",
   "execution_count": 10,
   "metadata": {},
   "outputs": [
    {
     "data": {
      "text/plain": [
       "<Cell 'Sheet'.A1>"
      ]
     },
     "execution_count": 10,
     "metadata": {},
     "output_type": "execute_result"
    }
   ],
   "source": [
    "sheet.cell(row=1, column=1)"
   ]
  },
  {
   "cell_type": "code",
   "execution_count": 11,
   "metadata": {},
   "outputs": [
    {
     "data": {
      "text/plain": [
       "'Name'"
      ]
     },
     "execution_count": 11,
     "metadata": {},
     "output_type": "execute_result"
    }
   ],
   "source": [
    "sheet.cell(row=1, column=1).value"
   ]
  },
  {
   "cell_type": "code",
   "execution_count": 12,
   "metadata": {},
   "outputs": [
    {
     "data": {
      "text/plain": [
       "'male'"
      ]
     },
     "execution_count": 12,
     "metadata": {},
     "output_type": "execute_result"
    }
   ],
   "source": [
    "sheet.cell(2,3).value"
   ]
  },
  {
   "cell_type": "markdown",
   "metadata": {},
   "source": [
    "##### cell 객체는 value 속성 외에도 다양한 속성을 가지고 있습니다.\n",
    "\n",
    "* value 속성 : 셀의 값\n",
    "\n",
    "* row 속성 : 셀의 행 인덱스(1부터 시작)\n",
    "\n",
    "* column 속성 : 셀의 열 인덱스(A부터 시작)\n",
    "\n",
    "* coordinate : 셀의 좌표(예: A1, B2 등)\n",
    "\n",
    "* font : 셀의 글꼴 설정 정보\n",
    "\n",
    "* fill : 셀의 배경색 설정 정보\n",
    "\n",
    "* number_format : 셀의 숫자 형식"
   ]
  },
  {
   "cell_type": "markdown",
   "metadata": {},
   "source": [
    "#### 1-2-4. sheet 객체의 셀 범위에 접근하기"
   ]
  },
  {
   "cell_type": "markdown",
   "metadata": {},
   "source": [
    "* sheet 객체에 셀의 주소 범위를 지정해주는 방식으로 특정 범위의 셀에 접근 가능합니다."
   ]
  },
  {
   "cell_type": "code",
   "execution_count": 13,
   "metadata": {},
   "outputs": [
    {
     "data": {
      "text/plain": [
       "((<Cell 'Sheet'.A1>, <Cell 'Sheet'.B1>, <Cell 'Sheet'.C1>),)"
      ]
     },
     "execution_count": 13,
     "metadata": {},
     "output_type": "execute_result"
    }
   ],
   "source": [
    "\n",
    "# sheet 객체의 CellRange 객체\n",
    "sheet['A1:C1']"
   ]
  },
  {
   "cell_type": "code",
   "execution_count": 14,
   "metadata": {},
   "outputs": [
    {
     "data": {
      "text/plain": [
       "((<Cell 'Sheet'.A2>, <Cell 'Sheet'.B2>, <Cell 'Sheet'.C2>),\n",
       " (<Cell 'Sheet'.A3>, <Cell 'Sheet'.B3>, <Cell 'Sheet'.C3>),\n",
       " (<Cell 'Sheet'.A4>, <Cell 'Sheet'.B4>, <Cell 'Sheet'.C4>))"
      ]
     },
     "execution_count": 14,
     "metadata": {},
     "output_type": "execute_result"
    }
   ],
   "source": [
    "sheet['A2:C4']"
   ]
  },
  {
   "cell_type": "code",
   "execution_count": 15,
   "metadata": {},
   "outputs": [
    {
     "name": "stdout",
     "output_type": "stream",
     "text": [
      "[['John', 25, 'male'], ['Emily', 30, 'female'], ['Michael', 35, 'male']]\n"
     ]
    }
   ],
   "source": [
    "data_list = []\n",
    "for row in sheet['A2:C4']:\n",
    "    row_list = []\n",
    "    for val in row:\n",
    "        row_list.append(val.value)\n",
    "    data_list.append(row_list)\n",
    "\n",
    "print(data_list)"
   ]
  },
  {
   "cell_type": "code",
   "execution_count": 16,
   "metadata": {},
   "outputs": [
    {
     "name": "stdout",
     "output_type": "stream",
     "text": [
      "[['John', 25, 'male'], ['Emily', 30, 'female'], ['Michael', 35, 'male']]\n"
     ]
    }
   ],
   "source": [
    "values = [[cell.value for cell in row] for row in sheet['A2:C4']]\n",
    "print(values)"
   ]
  },
  {
   "cell_type": "markdown",
   "metadata": {},
   "source": [
    "#### 1-2-5 데이터 추가 입력하기\n",
    "* sheet 객체의 append 메서드를 사용하면 행 전체를 입력할 수 있습니다."
   ]
  },
  {
   "cell_type": "code",
   "execution_count": 18,
   "metadata": {},
   "outputs": [],
   "source": [
    "sheet.append(['David', 27, 'male'])\n",
    "workbook.save('excel_data.xlsx')"
   ]
  },
  {
   "cell_type": "markdown",
   "metadata": {},
   "source": [
    "* cell 객체의 value 속성을 이용하여 특정 행과 열에 직접 데이터를 입력하는 것도 가능합니다."
   ]
  },
  {
   "cell_type": "code",
   "execution_count": 19,
   "metadata": {},
   "outputs": [],
   "source": [
    "row_data = ['Celine', 24, 'female']\n",
    "for col, data in enumerate(row_data, start=1):\n",
    "    sheet.cell(row=5, column=col).value = data\n",
    "workbook.save('excel_data.xlsx')"
   ]
  },
  {
   "cell_type": "markdown",
   "metadata": {},
   "source": [
    "### 1-3. Worksheet 객체(sheet)의 주요 속성 및 메서드\n",
    "#### 1-3-1. 속성\n",
    "* title : 시트의 이름을 가져오거나 설정합니다.\n",
    "\n",
    "* max_row : 시트의 최대 행 번호를 반환합니다.\n",
    "\n",
    "* max_column : 시트의 최대 열 번호를 반환합니다.\n",
    "\n",
    "* dimensions : 시트의 데이터가 있는 범위를 문자열로 반환합니다.(예: 'A1:C10')\n",
    "\n",
    "* rows : 시트의 모든 행을 순회할 수 있는 객체를 반환합니다. 각 행은 셀 객체의 튜플입니다.\n",
    "\n",
    "* columns : 시트의 모든 열을 순회할 수 있는 객체를 반환합니다. 각 열은 셀 객체의 튜플입니다.\n",
    "\n",
    "#### 1-3-2. 메서드\n",
    "* cell(row, column, value=None) : 주어진 행과 열에 해당하는 셀 객체를 반환하거나, 값을 설정합니다.\n",
    "\n",
    "* append(iterable) : 리스트, 튜플, 또는 딕셔너리 형태의 데이터를 받아 시트의 마지막 행 다음에 새로운 행으로 추가합니다.\n",
    "\n",
    "* iter_rows(min_row=None, max_row=None, min_col=None, max_col=None, values_only=False) : 지정된 범위의 행을 순회할 수 있는 객체를 반환합니다.\n",
    "\n",
    "* iter_cols(min_row=None, max_row=None, min_col=None, max_col=None, values_only=False) : 지정된 범위의 열을 순회할 수 있는 객체를 반환합니다.\n",
    "\n",
    "* delete_rows(start=None, end=None) : 지정된 범위의 행을 삭제합니다.\n",
    "\n",
    "* delete_cols(start=None, end=None) : 지정된 범위의 열을 삭제합니다."
   ]
  },
  {
   "cell_type": "markdown",
   "metadata": {},
   "source": [
    "### 1-4. Workbook 객체의 주요 속성 및 메서드\n",
    "#### 1-4-1. 속성\n",
    "* active : 현재 활성화된 시트를 가져오거나 설정합니다. 일반적으로 마지막으로 열린 시트가 활성 시트가 됩니다.\n",
    "\n",
    "* sheetnames : 워크북에 있는 모든 시트의 이름을 리스트로 반환합니다.\n",
    "\n",
    "#### 1-4-2. 메서드\n",
    "* create_sheet(title=None, index=None) : 새로운 시트를 생성하고 추가합니다. 'title'로 시트 이름을, 'index'로 추가 위치를 지정할 수 있습니다. 생성된 시트 객체를 반환합니다.\n",
    "\n",
    "* remove(sheet) : 주어진 시트를 워크북에서 제거합니다. 'sheet'는 시트 객체 또는 시트 이름일 수 있습니다.\n",
    "\n",
    "* save(filename) : 워크북을 주어진 파일 이름으로 저장합니다. 파일 확장자에 따라 저장 포맷이 결정됩니다. (일반적으로 '.xlsx')\n",
    "\n",
    "#### 1-4-3. Worksheet 지정하기\n",
    "* Workbook['Sheet_Name'] : 시트 이름으로 Worksheet 객체를 지정합니다.\n"
   ]
  },
  {
   "cell_type": "code",
   "execution_count": 60,
   "metadata": {},
   "outputs": [],
   "source": [
    "sheet = workbook['Sheet']"
   ]
  },
  {
   "cell_type": "code",
   "execution_count": 61,
   "metadata": {},
   "outputs": [
    {
     "data": {
      "text/plain": [
       "<Worksheet \"Sheet\">"
      ]
     },
     "execution_count": 61,
     "metadata": {},
     "output_type": "execute_result"
    }
   ],
   "source": [
    "sheet"
   ]
  },
  {
   "cell_type": "code",
   "execution_count": 62,
   "metadata": {},
   "outputs": [
    {
     "data": {
      "text/plain": [
       "'A1:C5'"
      ]
     },
     "execution_count": 62,
     "metadata": {},
     "output_type": "execute_result"
    }
   ],
   "source": [
    "sheet.dimensions"
   ]
  },
  {
   "cell_type": "code",
   "execution_count": null,
   "metadata": {},
   "outputs": [],
   "source": []
  }
 ],
 "metadata": {
  "kernelspec": {
   "display_name": "base",
   "language": "python",
   "name": "python3"
  },
  "language_info": {
   "codemirror_mode": {
    "name": "ipython",
    "version": 3
   },
   "file_extension": ".py",
   "mimetype": "text/x-python",
   "name": "python",
   "nbconvert_exporter": "python",
   "pygments_lexer": "ipython3",
   "version": "3.11.7"
  }
 },
 "nbformat": 4,
 "nbformat_minor": 2
}

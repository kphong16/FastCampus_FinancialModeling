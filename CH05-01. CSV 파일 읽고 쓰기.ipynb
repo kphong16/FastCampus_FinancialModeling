{
 "cells": [
  {
   "cell_type": "markdown",
   "metadata": {},
   "source": [
    "# [ 5-1. CSV 파일 읽고 쓰기 ]"
   ]
  },
  {
   "cell_type": "markdown",
   "metadata": {},
   "source": [
    "## 1. DataFrame을 CSV 파일로 쓰기\n",
    "Pandas의 DataFrame의 'to_csv' 메서드를 사용하면 DataFrame을 바로 csv파일로 변환할 수 있습니다."
   ]
  },
  {
   "cell_type": "code",
   "execution_count": 4,
   "metadata": {},
   "outputs": [
    {
     "name": "stdout",
     "output_type": "stream",
     "text": [
      "    Name  Age      City\n",
      "0   John   28  New York\n",
      "1   Anna   34     Paris\n",
      "2  Peter   29    Berlin\n",
      "3  Linda   32    London\n"
     ]
    }
   ],
   "source": [
    "# 예시 데이터프레임 작성\n",
    "import pandas as pd\n",
    "from pandas import DataFrame\n",
    "\n",
    "data = {\n",
    "    'Name': ['John', 'Anna', 'Peter', 'Linda'],\n",
    "    'Age': [28, 34, 29, 32],\n",
    "    'City': ['New York', 'Paris', 'Berlin', 'London']\n",
    "}\n",
    "\n",
    "df = DataFrame(data)\n",
    "print(df)"
   ]
  },
  {
   "cell_type": "code",
   "execution_count": 7,
   "metadata": {},
   "outputs": [],
   "source": [
    "# csv 파일로 저장하기\n",
    "df.to_csv('csv_data3.csv', index=False)"
   ]
  },
  {
   "cell_type": "markdown",
   "metadata": {},
   "source": [
    "* index=False는 DataFrame의 인덱스를 파일에 포함하지 않도록 설정합니다. 인덱스가 필요한 경우 이 옵션을 생략하거나 index=True로 설정할 수 있습니다."
   ]
  },
  {
   "cell_type": "markdown",
   "metadata": {},
   "source": [
    "## 2. CSV 파일 읽기\n",
    "pd.read_csv 메서드를 사용하여 저장된 csv 파일을 다시 불러와 DataFrame으로 변환할 수 있습니다."
   ]
  },
  {
   "cell_type": "code",
   "execution_count": 8,
   "metadata": {},
   "outputs": [
    {
     "name": "stdout",
     "output_type": "stream",
     "text": [
      "    Name  Age      City\n",
      "0   John   28  New York\n",
      "1   Anna   34     Paris\n",
      "2  Peter   29    Berlin\n",
      "3  Linda   32    London\n"
     ]
    }
   ],
   "source": [
    "# CSV 파일을 DataFrame으로 불러오기\n",
    "loaded_df = pd.read_csv('csv_data3.csv')\n",
    "\n",
    "print(loaded_df)"
   ]
  },
  {
   "cell_type": "markdown",
   "metadata": {},
   "source": [
    "## 3. csv 라이브러리를 이용하여 csv 파일 읽고, DataFrame으로 설정하기\n",
    "csv 라이브러리의 DictReader 메서드를 사용하면 데이터의 첫번째 행을 딕셔너리의 키값으로 설정한 후 이후 전체 데이터를 딕셔너리 형태로 읽어들이게 됩니다.\n",
    "딕셔너리 형태로 읽어들인 결과 값은 그대로 DataFrame으로 변환할 수 있습니다."
   ]
  },
  {
   "cell_type": "code",
   "execution_count": 12,
   "metadata": {},
   "outputs": [
    {
     "name": "stdout",
     "output_type": "stream",
     "text": [
      "    Name Age      City\n",
      "0   John  28  New York\n",
      "1   Anna  34     Paris\n",
      "2  Peter  29    Berlin\n",
      "3  Linda  32    London\n"
     ]
    }
   ],
   "source": [
    "import csv\n",
    "\n",
    "with open('csv_data3.csv', 'r', newline='') as file:\n",
    "    # CSV 딕셔너리리더 객체 생성\n",
    "    reader = csv.DictReader(file)\n",
    "    data = [row for row in reader]\n",
    "    \n",
    "df = DataFrame(data)\n",
    "print(df)"
   ]
  },
  {
   "cell_type": "markdown",
   "metadata": {},
   "source": [
    "## 4. csv 라이브러리를 이용하여 DataFrame을 csv 파일로 쓰기\n",
    "csv 라이브러리의 writer 메서드를 이용하여 writer 객체를 생성한 후 writer 객체를 이용하여 파일에 데이터를 작성합니다.\n",
    "\n",
    "DataFrame의 iterrows 메서드를 사용하면 데이터를 한 행씩 꺼내서 사용할 수 있습니다."
   ]
  },
  {
   "cell_type": "code",
   "execution_count": 13,
   "metadata": {},
   "outputs": [],
   "source": [
    "with open('csv_data4.csv', 'w', newline='') as file:\n",
    "    # CSV writer 객체 생성\n",
    "    writer = csv.writer(file)\n",
    "\n",
    "    # 컬럼명 쓰기\n",
    "    writer.writerow(df.columns)\n",
    "\n",
    "    # 데이터 쓰기\n",
    "    for index, row in df.iterrows():\n",
    "        writer.writerow(row)"
   ]
  },
  {
   "cell_type": "code",
   "execution_count": 14,
   "metadata": {},
   "outputs": [
    {
     "data": {
      "text/html": [
       "<div>\n",
       "<style scoped>\n",
       "    .dataframe tbody tr th:only-of-type {\n",
       "        vertical-align: middle;\n",
       "    }\n",
       "\n",
       "    .dataframe tbody tr th {\n",
       "        vertical-align: top;\n",
       "    }\n",
       "\n",
       "    .dataframe thead th {\n",
       "        text-align: right;\n",
       "    }\n",
       "</style>\n",
       "<table border=\"1\" class=\"dataframe\">\n",
       "  <thead>\n",
       "    <tr style=\"text-align: right;\">\n",
       "      <th></th>\n",
       "      <th>Name</th>\n",
       "      <th>Age</th>\n",
       "      <th>City</th>\n",
       "    </tr>\n",
       "  </thead>\n",
       "  <tbody>\n",
       "    <tr>\n",
       "      <th>0</th>\n",
       "      <td>John</td>\n",
       "      <td>28</td>\n",
       "      <td>New York</td>\n",
       "    </tr>\n",
       "    <tr>\n",
       "      <th>1</th>\n",
       "      <td>Anna</td>\n",
       "      <td>34</td>\n",
       "      <td>Paris</td>\n",
       "    </tr>\n",
       "    <tr>\n",
       "      <th>2</th>\n",
       "      <td>Peter</td>\n",
       "      <td>29</td>\n",
       "      <td>Berlin</td>\n",
       "    </tr>\n",
       "    <tr>\n",
       "      <th>3</th>\n",
       "      <td>Linda</td>\n",
       "      <td>32</td>\n",
       "      <td>London</td>\n",
       "    </tr>\n",
       "  </tbody>\n",
       "</table>\n",
       "</div>"
      ],
      "text/plain": [
       "    Name  Age      City\n",
       "0   John   28  New York\n",
       "1   Anna   34     Paris\n",
       "2  Peter   29    Berlin\n",
       "3  Linda   32    London"
      ]
     },
     "execution_count": 14,
     "metadata": {},
     "output_type": "execute_result"
    }
   ],
   "source": [
    "# 파일 출력이 제대로 되었는지 확인\n",
    "pd.read_csv('csv_data4.csv')"
   ]
  }
 ],
 "metadata": {
  "kernelspec": {
   "display_name": "fastcampus",
   "language": "python",
   "name": "python3"
  },
  "language_info": {
   "codemirror_mode": {
    "name": "ipython",
    "version": 3
   },
   "file_extension": ".py",
   "mimetype": "text/x-python",
   "name": "python",
   "nbconvert_exporter": "python",
   "pygments_lexer": "ipython3",
   "version": "3.11.7"
  }
 },
 "nbformat": 4,
 "nbformat_minor": 2
}
